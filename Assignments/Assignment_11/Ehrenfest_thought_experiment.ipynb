{
  "nbformat": 4,
  "nbformat_minor": 0,
  "metadata": {
    "colab": {
      "provenance": [],
      "authorship_tag": "ABX9TyP4vMynH9PZboqfgTqtWuX/",
      "include_colab_link": true
    },
    "kernelspec": {
      "name": "python3",
      "display_name": "Python 3"
    },
    "language_info": {
      "name": "python"
    }
  },
  "cells": [
    {
      "cell_type": "markdown",
      "metadata": {
        "id": "view-in-github",
        "colab_type": "text"
      },
      "source": [
        "<a href=\"https://colab.research.google.com/github/durgesh9129/MA22C013_2023_PL/blob/main/Assignments/Assignment_11/Ehrenfest_thought_experiment.ipynb\" target=\"_parent\"><img src=\"https://colab.research.google.com/assets/colab-badge.svg\" alt=\"Open In Colab\"/></a>"
      ]
    },
    {
      "cell_type": "markdown",
      "source": [
        "# Task 1: What is the probability that you can hit one state from another state (in any number of steps) in this Markov chain? Answer by looking at the graph and double check that an eigenvector gives what is expected."
      ],
      "metadata": {
        "id": "Bi88h6Xutr_t"
      }
    },
    {
      "cell_type": "code",
      "source": [
        "import numpy as np\n",
        "\n",
        "p = 0.4\n",
        "N = 10\n",
        "\n",
        "               ##### Create the transition matrix P ######\n",
        "P = np.zeros((N + 1, N + 1))\n",
        "for i in range(N + 1):\n",
        "    P[i, i] = 1 - p\n",
        "    if i < N:\n",
        "        P[i, i + 1] = p\n",
        "    if i > 0:\n",
        "        P[i, i - 1] = 1 - p\n",
        "\n",
        "             ###### Use eig to find the stationary distribution #######\n",
        "eigenvalues, eigenvectors = np.linalg.eig(P.T)\n",
        "stationary_distribution = np.real(eigenvectors[:, 0] / np.sum(eigenvectors[:, 0]))\n",
        "\n",
        "print(stationary_distribution)\n"
      ],
      "metadata": {
        "colab": {
          "base_uri": "https://localhost:8080/"
        },
        "id": "r1ITCLFQt07x",
        "outputId": "9b9365f7-9c1b-46de-9670-f944b123e52b"
      },
      "execution_count": 1,
      "outputs": [
        {
          "output_type": "stream",
          "name": "stdout",
          "text": [
            "[ 2.98220472 -4.70398142  5.43168988 -5.43168988  4.94655091 -4.18131682\n",
            "  3.29770061 -2.41408439  1.6093896  -0.92918152  0.39271832]\n"
          ]
        }
      ]
    },
    {
      "cell_type": "markdown",
      "source": [
        "# Task 2:For each question below, guess the answer from the fgure, and then verify that your com-putational method gives the expected answer.\n",
        "### • Starting from B = {3}, what is the probability of hitting A = {0, 1, 2} in any number of steps?.\n",
        "### • Starting from from any state in B = {0, 1, 2} what is the probability of hitting A = {3} in any number of steps?.\n",
        "### • Is this an absorbing Markov chain? Verify that the answers come out the same using the two methods you learnt."
      ],
      "metadata": {
        "id": "5l5w0C4ouLUq"
      }
    },
    {
      "cell_type": "code",
      "source": [
        "import numpy as np\n",
        "\n",
        "N = 10\n",
        "r_values = [0.1, 0.01, 1e-3, 1e-4]\n",
        "\n",
        "for r in r_values:\n",
        "    P = np.zeros((N + 1, N + 1))\n",
        "    for i in range(N + 1):\n",
        "        P[i, i] = (1 - r) / (N + 1)\n",
        "        for j in range(N + 1):\n",
        "            if i != j:\n",
        "                P[i, j] = r / (N)\n",
        "\n",
        "    eigenvalues, eigenvectors = np.linalg.eig(P.T)\n",
        "    pagerank = np.real(eigenvectors[:, 0] / np.sum(eigenvectors[:, 0]))\n",
        "\n",
        "    print(f\"PageRank for r = {r}:\")\n",
        "    print(pagerank)\n"
      ],
      "metadata": {
        "colab": {
          "base_uri": "https://localhost:8080/"
        },
        "id": "k1PYVY7XuPHR",
        "outputId": "d420124f-f270-4623-a10b-ed2becd5857c"
      },
      "execution_count": 2,
      "outputs": [
        {
          "output_type": "stream",
          "name": "stdout",
          "text": [
            "PageRank for r = 0.1:\n",
            "[ 2.64247001e+15 -2.64247001e+14 -2.64247001e+14 -2.64247001e+14\n",
            " -2.64247001e+14 -2.64247001e+14 -2.64247001e+14 -2.64247001e+14\n",
            " -2.64247001e+14 -2.64247001e+14 -2.64247001e+14]\n",
            "PageRank for r = 0.01:\n",
            "[ 3.15156973e+14 -3.15156973e+13 -3.15156973e+13 -3.15156973e+13\n",
            " -3.15156973e+13 -3.15156973e+13 -3.15156973e+13 -3.15156973e+13\n",
            " -3.15156973e+13 -3.15156973e+13 -3.15156973e+13]\n",
            "PageRank for r = 0.001:\n",
            "[-2.52218136e+13  2.52218136e+12  2.52218136e+12  2.52218136e+12\n",
            "  2.52218136e+12  2.52218136e+12  2.52218136e+12  2.52218136e+12\n",
            "  2.52218136e+12  2.52218136e+12  2.52218136e+12]\n",
            "PageRank for r = 0.0001:\n",
            "[-2.25407547e+12  2.25407547e+11  2.25407547e+11  2.25407547e+11\n",
            "  2.25407547e+11  2.25407547e+11  2.25407547e+11  2.25407547e+11\n",
            "  2.25407547e+11  2.25407547e+11  2.25407547e+11]\n"
          ]
        }
      ]
    },
    {
      "cell_type": "markdown",
      "source": [
        "# Task 3:\n",
        "#### • What are the hitting probabilities of A = {0, 1, 2} from the remaining states?\n",
        "#### • What are the hitting probabilities of A = {4, 5, 6} from the remaining states?\n",
        "#### • What are the hitting probabilities of A = {3} from the remaining states?"
      ],
      "metadata": {
        "id": "qWTdG3TFvYSd"
      }
    },
    {
      "cell_type": "code",
      "source": [
        "import numpy as np\n",
        "\n",
        "def powerP(x, aPt, r=0.1, maxn=1000, tol=1e-10):\n",
        "    n = 1\n",
        "    prev_x = x\n",
        "\n",
        "    while n <= maxn:\n",
        "        x = aPt(x)\n",
        "        x /= np.linalg.norm(x, 1)\n",
        "\n",
        "        if np.linalg.norm(x - prev_x, 1) < tol:\n",
        "            return x\n",
        "\n",
        "        prev_x = x\n",
        "        n += 1\n",
        "\n",
        "    return x\n",
        "\n",
        "# Define a function to apply Pt to a vector\n",
        "def apply_Pt(x):\n",
        "    return P.T @ x\n",
        "\n",
        "# Example usage\n",
        "N = 100000\n",
        "r = 0.1\n",
        "P = np.zeros((N + 1, N + 1))\n",
        "# Define the transition matrix P here...\n",
        "\n",
        "initial_distribution = np.ones(N + 1) / (N + 1)\n",
        "pagerank = powerP(initial_distribution, apply_Pt, r=r)\n",
        "print(\"PageRank for r = 0.1 and N = 100000:\")\n",
        "print(pagerank)"
      ],
      "metadata": {
        "id": "fYOXaAAkyiu9"
      },
      "execution_count": null,
      "outputs": []
    },
    {
      "cell_type": "markdown",
      "source": [
        "# Task 4:\n",
        "#### • Starting from 1 what is the probability of hitting 0 in any number of steps?\n",
        "#### • Starting from 3 what is the probability of hitting 6 in any number of steps?"
      ],
      "metadata": {
        "id": "OjMWQr2dx2w7"
      }
    },
    {
      "cell_type": "code",
      "source": [
        "import numpy as np\n",
        "\n",
        "def powerP(x, aPt, r=0.1, maxn=1000, tol=1e-10):\n",
        "    n = 1\n",
        "    prev_x = x\n",
        "\n",
        "    while n <= maxn:\n",
        "        x = (1 - r) * aPt(x) + r / len(x)\n",
        "        x /= np.linalg.norm(x, 1)\n",
        "\n",
        "        if np.linalg.norm(x - prev_x, 1) < tol:\n",
        "            return x\n",
        "\n",
        "        prev_x = x\n",
        "        n += 1\n",
        "\n",
        "    return x\n",
        "\n",
        "# Define a function to apply Pt to a vector\n",
        "def apply_Pt(x):\n",
        "    return P.T @ x\n",
        "\n",
        "# Example usage\n",
        "N = 100000\n",
        "r = 0.1\n",
        "P = np.zeros((N + 1, N + 1))\n",
        "# Define the transition matrix P here...\n",
        "\n",
        "initial_distribution = np.ones(N + 1) / (N + 1)\n",
        "pagerank = powerP(initial_distribution, apply_Pt, r=r)\n",
        "print(\"PageRank for r = 0.1 and N = 100000:\")\n",
        "print(pagerank)\n"
      ],
      "metadata": {
        "id": "EJdqfL8dykiI"
      },
      "execution_count": null,
      "outputs": []
    }
  ]
}