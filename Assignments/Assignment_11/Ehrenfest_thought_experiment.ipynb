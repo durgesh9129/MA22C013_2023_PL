{
  "nbformat": 4,
  "nbformat_minor": 0,
  "metadata": {
    "colab": {
      "provenance": [],
      "authorship_tag": "ABX9TyOdwSjHNj+LEP2xrV8c07nX",
      "include_colab_link": true
    },
    "kernelspec": {
      "name": "python3",
      "display_name": "Python 3"
    },
    "language_info": {
      "name": "python"
    }
  },
  "cells": [
    {
      "cell_type": "markdown",
      "metadata": {
        "id": "view-in-github",
        "colab_type": "text"
      },
      "source": [
        "<a href=\"https://colab.research.google.com/github/durgesh9129/MA22C013_2023_PL/blob/main/Assignments/Assignment_11/Ehrenfest_thought_experiment.ipynb\" target=\"_parent\"><img src=\"https://colab.research.google.com/assets/colab-badge.svg\" alt=\"Open In Colab\"/></a>"
      ]
    },
    {
      "cell_type": "markdown",
      "source": [
        "# Task 1: Model the process as a Markov chain. Choose as states the number of balls in the first urn. Write a function to make the transition matrix P for general k. Print out your transition matrix for k = 2 (which should be 5 x 5). Draw the directed graph of the chain for k = 2 case."
      ],
      "metadata": {
        "id": "FM7dmNvRwn0t"
      }
    },
    {
      "cell_type": "code",
      "source": [
        "import numpy as np\n",
        "\n",
        "def create_transition_matrix(k):\n",
        "    n_states = 2 * k + 1\n",
        "    P = np.zeros((n_states, n_states))\n",
        "\n",
        "    for i in range(n_states):\n",
        "        if i == 0:\n",
        "            P[i, i + 1] = 1.0\n",
        "        elif i == n_states - 1:\n",
        "            P[i, i - 1] = 1.0\n",
        "        else:\n",
        "            P[i, i - 1] = i / (2 * k)\n",
        "            P[i, i + 1] = 1 - P[i, i - 1]\n",
        "\n",
        "    return P\n",
        "\n",
        "# Example for k = 2\n",
        "k = 2\n",
        "transition_matrix = create_transition_matrix(k)\n",
        "print(transition_matrix)\n"
      ],
      "metadata": {
        "colab": {
          "base_uri": "https://localhost:8080/"
        },
        "id": "JoyQbm6OwvSo",
        "outputId": "3e49ce03-79f1-4d1a-b64f-7af6789af9a0"
      },
      "execution_count": 1,
      "outputs": [
        {
          "output_type": "stream",
          "name": "stdout",
          "text": [
            "[[0.   1.   0.   0.   0.  ]\n",
            " [0.25 0.   0.75 0.   0.  ]\n",
            " [0.   0.5  0.   0.5  0.  ]\n",
            " [0.   0.   0.75 0.   0.25]\n",
            " [0.   0.   0.   1.   0.  ]]\n"
          ]
        }
      ]
    },
    {
      "cell_type": "markdown",
      "source": [
        "# Task 2: Is P irreducible?"
      ],
      "metadata": {
        "id": "2cHTAa4exCdu"
      }
    },
    {
      "cell_type": "markdown",
      "source": [
        "A Markov chain is irreducible if there is a positive probability of reaching any state from any other state. You can check if the Markov chain is irreducible by verifying if all states communicate with each other. In the case of the Ehrenfest Urns, since we defined transitions between all states (including boundaries), it is indeed irreducible."
      ],
      "metadata": {
        "id": "eKCpegoWxQ0L"
      }
    },
    {
      "cell_type": "markdown",
      "source": [
        "# Task 3: Does P^n converge as n → ∞?"
      ],
      "metadata": {
        "id": "2ZoYZQUYxYBQ"
      }
    },
    {
      "cell_type": "code",
      "source": [
        "eigenvalues, eigenvectors = np.linalg.eig(transition_matrix.T)\n",
        "stationary_distribution = eigenvectors[:, np.argmax(eigenvalues)]\n",
        "stationary_distribution /= stationary_distribution.sum()\n",
        "\n",
        "print(\"Stationary Distribution:\")\n",
        "print(stationary_distribution)\n"
      ],
      "metadata": {
        "colab": {
          "base_uri": "https://localhost:8080/"
        },
        "id": "nWV6Wp3vxZBb",
        "outputId": "46ac1747-5b18-48a1-95a5-c5cd7fb6ed2d"
      },
      "execution_count": 3,
      "outputs": [
        {
          "output_type": "stream",
          "name": "stdout",
          "text": [
            "Stationary Distribution:\n",
            "[0.0625 0.25   0.375  0.25   0.0625]\n"
          ]
        }
      ]
    },
    {
      "cell_type": "code",
      "source": [],
      "metadata": {
        "id": "ByICjGPHxeX6"
      },
      "execution_count": null,
      "outputs": []
    },
    {
      "cell_type": "markdown",
      "source": [
        "# Task 4: Plot the stationary distribution of this Markov chain for k = 100."
      ],
      "metadata": {
        "id": "s7mRmjIWxgId"
      }
    },
    {
      "cell_type": "code",
      "source": [
        "import matplotlib.pyplot as plt\n",
        "\n",
        "k = 100\n",
        "transition_matrix = create_transition_matrix(k)\n",
        "\n",
        "eigenvalues, eigenvectors = np.linalg.eig(transition_matrix.T)\n",
        "stationary_distribution = eigenvectors[:, np.argmax(eigenvalues)]\n",
        "stationary_distribution /= stationary_distribution.sum()\n",
        "\n",
        "plt.bar(range(2 * k + 1), stationary_distribution)\n",
        "plt.xlabel(\"Number of Balls in First Urn\")\n",
        "plt.ylabel(\"Stationary Probability\")\n",
        "plt.title(f\"Stationary Distribution for k = {k}\")\n",
        "plt.show()\n"
      ],
      "metadata": {
        "colab": {
          "base_uri": "https://localhost:8080/",
          "height": 508
        },
        "id": "pybr9EgTxlYV",
        "outputId": "fed46d25-f153-4f57-e3dc-43c43907bd00"
      },
      "execution_count": 4,
      "outputs": [
        {
          "output_type": "stream",
          "name": "stderr",
          "text": [
            "/usr/local/lib/python3.10/dist-packages/matplotlib/transforms.py:762: ComplexWarning: Casting complex values to real discards the imaginary part\n",
            "  points = np.asarray(points, float)\n"
          ]
        },
        {
          "output_type": "display_data",
          "data": {
            "text/plain": [
              "<Figure size 640x480 with 1 Axes>"
            ],
            "image/png": "[encoded data removed]"
          },
          "metadata": {}
        }
      ]
    }
  ]
}