{
  "nbformat": 4,
  "nbformat_minor": 0,
  "metadata": {
    "colab": {
      "provenance": [],
      "authorship_tag": "ABX9TyNEVwI+otNYtCqaOZruJ4b5",
      "include_colab_link": true
    },
    "kernelspec": {
      "name": "python3",
      "display_name": "Python 3"
    },
    "language_info": {
      "name": "python"
    }
  },
  "cells": [
    {
      "cell_type": "markdown",
      "metadata": {
        "id": "view-in-github",
        "colab_type": "text"
      },
      "source": [
        "<a href=\"https://colab.research.google.com/github/durgeshgitup/MA22C013_2023_PL/blob/main/Assignments/Assignment_5/Ave_matrix.ipynb\" target=\"_parent\"><img src=\"https://colab.research.google.com/assets/colab-badge.svg\" alt=\"Open In Colab\"/></a>"
      ]
    },
    {
      "cell_type": "code",
      "execution_count": 1,
      "metadata": {
        "id": "H2cWb-h1xL18"
      },
      "outputs": [],
      "source": [
        "def get_diag_mat(n,k):\n",
        "  y = np.diag(np.ones(n))\n",
        "  for i in range(1,k):\n",
        "    y = y+ np.diag(np.ones(n-i),i) +np.diag(np.ones(n-i),-i)\n",
        "  return y"
      ]
    },
    {
      "cell_type": "code",
      "source": [
        "def get_avg_mat(y):\n",
        "  avg = np.sum(y,1)\n",
        "  for i in range(len(avg)):\n",
        "    y[i,:] = y[i,:]/avg[i]\n",
        "  return y"
      ],
      "metadata": {
        "id": "-pMG4hmTxPXg"
      },
      "execution_count": 2,
      "outputs": []
    },
    {
      "cell_type": "code",
      "source": [
        "def get_vec(n):\n",
        "  x = np.zeros(n)\n",
        "  for i in range(n):\n",
        "    x[i] = (-1)**i\n",
        "  return x\n"
      ],
      "metadata": {
        "id": "FapQ8QTX2mFT"
      },
      "execution_count": 3,
      "outputs": []
    },
    {
      "cell_type": "code",
      "source": [
        "import numpy as np\n",
        "n = 6\n",
        "k =2"
      ],
      "metadata": {
        "id": "4jdU0ylF2oZx"
      },
      "execution_count": 4,
      "outputs": []
    },
    {
      "cell_type": "code",
      "source": [
        "y = get_diag_mat(n,k)"
      ],
      "metadata": {
        "id": "dBfQ-c9Z2q7p"
      },
      "execution_count": 5,
      "outputs": []
    },
    {
      "cell_type": "code",
      "source": [
        "y = get_avg_mat(y)"
      ],
      "metadata": {
        "id": "U-983gcr2sfW"
      },
      "execution_count": 6,
      "outputs": []
    },
    {
      "cell_type": "code",
      "source": [
        "x = get_vec(n)\n",
        "np.matmul(y,x)"
      ],
      "metadata": {
        "id": "RZk4FT0D2ufD",
        "colab": {
          "base_uri": "https://localhost:8080/"
        },
        "outputId": "5f8be158-e84e-456f-9d9c-0025b8eeb5b7"
      },
      "execution_count": 7,
      "outputs": [
        {
          "output_type": "execute_result",
          "data": {
            "text/plain": [
              "array([ 0.        ,  0.33333333, -0.33333333,  0.33333333, -0.33333333,\n",
              "        0.        ])"
            ]
          },
          "metadata": {},
          "execution_count": 7
        }
      ]
    },
    {
      "cell_type": "markdown",
      "source": [
        "Q"
      ],
      "metadata": {
        "id": "uvC0i16h4Fp9"
      }
    },
    {
      "cell_type": "code",
      "source": [
        "n = 20\n",
        "k =2"
      ],
      "metadata": {
        "id": "K0O2eRb82wkE"
      },
      "execution_count": 8,
      "outputs": []
    },
    {
      "cell_type": "code",
      "source": [
        "y = get_diag_mat(n,k)"
      ],
      "metadata": {
        "id": "J8lFdNXk2yx9"
      },
      "execution_count": 9,
      "outputs": []
    },
    {
      "cell_type": "code",
      "source": [
        "y = get_avg_mat(y)"
      ],
      "metadata": {
        "id": "nL3AgL_j20jK"
      },
      "execution_count": 10,
      "outputs": []
    },
    {
      "cell_type": "code",
      "source": [
        "x=get_vec(n)\n",
        "np.matmul(y,x)"
      ],
      "metadata": {
        "id": "W8lwZZqj22r2",
        "colab": {
          "base_uri": "https://localhost:8080/"
        },
        "outputId": "586f52d5-0061-4288-b65f-2a7375057274"
      },
      "execution_count": 11,
      "outputs": [
        {
          "output_type": "execute_result",
          "data": {
            "text/plain": [
              "array([ 0.        ,  0.33333333, -0.33333333,  0.33333333, -0.33333333,\n",
              "        0.33333333, -0.33333333,  0.33333333, -0.33333333,  0.33333333,\n",
              "       -0.33333333,  0.33333333, -0.33333333,  0.33333333, -0.33333333,\n",
              "        0.33333333, -0.33333333,  0.33333333, -0.33333333,  0.        ])"
            ]
          },
          "metadata": {},
          "execution_count": 11
        }
      ]
    },
    {
      "cell_type": "code",
      "source": [
        "n = 20\n",
        "k =3\n",
        "y = get_diag_mat(n,k)\n",
        "y = get_avg_mat(y)\n",
        "x=get_vec(n)\n",
        "np.matmul(y,x)"
      ],
      "metadata": {
        "id": "1yrbsTsK25Dt",
        "colab": {
          "base_uri": "https://localhost:8080/"
        },
        "outputId": "87a2d619-3a01-4558-b340-62177cf04291"
      },
      "execution_count": 12,
      "outputs": [
        {
          "output_type": "execute_result",
          "data": {
            "text/plain": [
              "array([ 0.33333333,  0.        ,  0.2       , -0.2       ,  0.2       ,\n",
              "       -0.2       ,  0.2       , -0.2       ,  0.2       , -0.2       ,\n",
              "        0.2       , -0.2       ,  0.2       , -0.2       ,  0.2       ,\n",
              "       -0.2       ,  0.2       , -0.2       ,  0.        , -0.33333333])"
            ]
          },
          "metadata": {},
          "execution_count": 12
        }
      ]
    },
    {
      "cell_type": "code",
      "source": [
        "n = 20\n",
        "k =4\n",
        "y = get_diag_mat(n,k)\n",
        "y = get_avg_mat(y)\n",
        "x=get_vec(n)\n",
        "np.matmul(y,x)"
      ],
      "metadata": {
        "id": "70VWa-ro27UW",
        "colab": {
          "base_uri": "https://localhost:8080/"
        },
        "outputId": "281de9ef-f88b-44bb-ab59-4027748b3cd1"
      },
      "execution_count": 13,
      "outputs": [
        {
          "output_type": "execute_result",
          "data": {
            "text/plain": [
              "array([ 0.        ,  0.2       ,  0.        ,  0.14285714, -0.14285714,\n",
              "        0.14285714, -0.14285714,  0.14285714, -0.14285714,  0.14285714,\n",
              "       -0.14285714,  0.14285714, -0.14285714,  0.14285714, -0.14285714,\n",
              "        0.14285714, -0.14285714,  0.        , -0.2       ,  0.        ])"
            ]
          },
          "metadata": {},
          "execution_count": 13
        }
      ]
    },
    {
      "cell_type": "code",
      "source": [
        "n = 20\n",
        "k =5\n",
        "y = get_diag_mat(n,k)\n",
        "y = get_avg_mat(y)\n",
        "x=get_vec(n)\n",
        "np.matmul(y,x)"
      ],
      "metadata": {
        "id": "OXGsFbyB29aX",
        "colab": {
          "base_uri": "https://localhost:8080/"
        },
        "outputId": "e5066155-7133-47bb-e5ef-00cd020ad5aa"
      },
      "execution_count": 14,
      "outputs": [
        {
          "output_type": "execute_result",
          "data": {
            "text/plain": [
              "array([ 0.2       ,  0.        ,  0.14285714,  0.        ,  0.11111111,\n",
              "       -0.11111111,  0.11111111, -0.11111111,  0.11111111, -0.11111111,\n",
              "        0.11111111, -0.11111111,  0.11111111, -0.11111111,  0.11111111,\n",
              "       -0.11111111,  0.        , -0.14285714,  0.        , -0.2       ])"
            ]
          },
          "metadata": {},
          "execution_count": 14
        }
      ]
    },
    {
      "cell_type": "code",
      "source": [
        "x = np.linspace(0,10,1000)"
      ],
      "metadata": {
        "id": "lbdHytVs3ATE"
      },
      "execution_count": 15,
      "outputs": []
    },
    {
      "cell_type": "code",
      "source": [
        "f_x = x**2 + 2*np.sin(10*x)"
      ],
      "metadata": {
        "id": "l5gcrmK33FBB"
      },
      "execution_count": 16,
      "outputs": []
    },
    {
      "cell_type": "code",
      "source": [
        "f_x.shape"
      ],
      "metadata": {
        "id": "IpxF7t3E3FEd",
        "colab": {
          "base_uri": "https://localhost:8080/"
        },
        "outputId": "f189d791-3b84-4082-e1c3-61cbae001f64"
      },
      "execution_count": 17,
      "outputs": [
        {
          "output_type": "execute_result",
          "data": {
            "text/plain": [
              "(1000,)"
            ]
          },
          "metadata": {},
          "execution_count": 17
        }
      ]
    },
    {
      "cell_type": "code",
      "source": [
        "f_x.reshape(1000,1);"
      ],
      "metadata": {
        "id": "IgoDTqIJ3L8_"
      },
      "execution_count": 18,
      "outputs": []
    },
    {
      "cell_type": "code",
      "source": [
        "n = 1000\n",
        "k = 97\n",
        "y = get_diag_mat(n,k)\n",
        "y = get_avg_mat(y)"
      ],
      "metadata": {
        "id": "Da7cRPXz3N2k"
      },
      "execution_count": 19,
      "outputs": []
    },
    {
      "cell_type": "code",
      "source": [
        "y1 = np.matmul(y,f_x)"
      ],
      "metadata": {
        "id": "wdOeRMOs3PvB"
      },
      "execution_count": 20,
      "outputs": []
    },
    {
      "cell_type": "code",
      "source": [
        "x = np.linspace(0,10,1000)\n",
        "f_x = x**2 + 2*np.sin(10*x)\n",
        "f_x.reshape(1000,1);\n",
        "n = 1000\n",
        "k = 98\n",
        "y = get_diag_mat(n,k)\n",
        "y = get_avg_mat(y)\n",
        "y2 = np.matmul(y,f_x)"
      ],
      "metadata": {
        "id": "uReggfqd3R56"
      },
      "execution_count": 21,
      "outputs": []
    },
    {
      "cell_type": "code",
      "source": [
        "n = 1000\n",
        "k = 99\n",
        "y = get_diag_mat(n,k)\n",
        "y = get_avg_mat(y)\n",
        "y3=np.matmul(y,f_x)"
      ],
      "metadata": {
        "id": "3yPn5a183T5i"
      },
      "execution_count": 22,
      "outputs": []
    },
    {
      "cell_type": "code",
      "source": [
        "n = 1000\n",
        "k = 100\n",
        "y = get_diag_mat(n,k)\n",
        "y = get_avg_mat(y)\n",
        "y4=np.matmul(y,f_x)"
      ],
      "metadata": {
        "id": "9Y-Oibxd3W6d"
      },
      "execution_count": 23,
      "outputs": []
    },
    {
      "cell_type": "code",
      "source": [
        "n = 1000\n",
        "k = 101\n",
        "y = get_diag_mat(n,k)\n",
        "y = get_avg_mat(y)\n",
        "y5 = np.matmul(y,f_x)"
      ],
      "metadata": {
        "id": "x0TxHGe-3fbQ"
      },
      "execution_count": 24,
      "outputs": []
    },
    {
      "cell_type": "code",
      "source": [
        "n = 1000\n",
        "k = 102\n",
        "y = get_diag_mat(n,k)\n",
        "y = get_avg_mat(y)\n",
        "y6 = np.matmul(y,f_x)"
      ],
      "metadata": {
        "id": "c_YyvwHA3hP5"
      },
      "execution_count": 25,
      "outputs": []
    },
    {
      "cell_type": "code",
      "source": [
        "n = 1000\n",
        "k = 103\n",
        "y = get_diag_mat(n,k)\n",
        "y = get_avg_mat(y)\n",
        "y7=np.matmul(y,f_x)"
      ],
      "metadata": {
        "id": "VOQ6zTWq3jH_"
      },
      "execution_count": 26,
      "outputs": []
    },
    {
      "cell_type": "code",
      "source": [
        "max(y2-y1), min(y2-y1)"
      ],
      "metadata": {
        "id": "Cj8EWtUp3lFn",
        "colab": {
          "base_uri": "https://localhost:8080/"
        },
        "outputId": "6fc9a65e-a8f9-4548-9784-9cef4cfb2cbf"
      },
      "execution_count": 27,
      "outputs": [
        {
          "output_type": "execute_result",
          "data": {
            "text/plain": [
              "(0.025670962829863697, -0.10499200986338053)"
            ]
          },
          "metadata": {},
          "execution_count": 27
        }
      ]
    },
    {
      "cell_type": "code",
      "source": [
        "max(y3-y2), min(y3-y2)"
      ],
      "metadata": {
        "id": "UtmhkxsE3n2_",
        "colab": {
          "base_uri": "https://localhost:8080/"
        },
        "outputId": "4e83e4ee-a0cd-4389-e07e-8e3e17a2fa23"
      },
      "execution_count": 28,
      "outputs": [
        {
          "output_type": "execute_result",
          "data": {
            "text/plain": [
              "(0.024680185133149735, -0.10499200986338053)"
            ]
          },
          "metadata": {},
          "execution_count": 28
        }
      ]
    },
    {
      "cell_type": "code",
      "source": [
        "max(y4-y3), min(y4-y3)"
      ],
      "metadata": {
        "id": "zkVIHn8C3qXs",
        "colab": {
          "base_uri": "https://localhost:8080/"
        },
        "outputId": "87e51ca4-f6b5-41f2-91a5-e5480c38a966"
      },
      "execution_count": 29,
      "outputs": [
        {
          "output_type": "execute_result",
          "data": {
            "text/plain": [
              "(0.023534788147188124, -0.10499200986338053)"
            ]
          },
          "metadata": {},
          "execution_count": 29
        }
      ]
    },
    {
      "cell_type": "code",
      "source": [
        "max(y5-y4), min(y5-y4)"
      ],
      "metadata": {
        "id": "HjnS_8Br3sYP",
        "colab": {
          "base_uri": "https://localhost:8080/"
        },
        "outputId": "47c10bda-a191-4573-ff2b-22270f2e0527"
      },
      "execution_count": 30,
      "outputs": [
        {
          "output_type": "execute_result",
          "data": {
            "text/plain": [
              "(0.0225754898523981, -0.10499200986338053)"
            ]
          },
          "metadata": {},
          "execution_count": 30
        }
      ]
    },
    {
      "cell_type": "code",
      "source": [
        "max(y6-y5),min(y6-y5)"
      ],
      "metadata": {
        "id": "rBV6iFMi3uWv",
        "colab": {
          "base_uri": "https://localhost:8080/"
        },
        "outputId": "d2584d37-8b24-4203-ccfa-e2a889e2cdb7"
      },
      "execution_count": 31,
      "outputs": [
        {
          "output_type": "execute_result",
          "data": {
            "text/plain": [
              "(0.0225754898523981, -0.10499200986338053)"
            ]
          },
          "metadata": {},
          "execution_count": 31
        }
      ]
    },
    {
      "cell_type": "code",
      "source": [
        "max(y7-y6), min(y7-y6)"
      ],
      "metadata": {
        "id": "9M_C4ANL3xFQ",
        "colab": {
          "base_uri": "https://localhost:8080/"
        },
        "outputId": "08433b5e-bb1d-488f-9ac1-9e5da686fb44"
      },
      "execution_count": 32,
      "outputs": [
        {
          "output_type": "execute_result",
          "data": {
            "text/plain": [
              "(0.022888754704571523, -0.10499200986338053)"
            ]
          },
          "metadata": {},
          "execution_count": 32
        }
      ]
    },
    {
      "cell_type": "code",
      "source": [
        "import matplotlib.pyplot as plt\n",
        "plt.plot(x,f_x)"
      ],
      "metadata": {
        "id": "sFk7pKlu3z8P",
        "colab": {
          "base_uri": "https://localhost:8080/",
          "height": 448
        },
        "outputId": "78dfe65a-8955-4d73-ba6f-87f19aea137e"
      },
      "execution_count": 33,
      "outputs": [
        {
          "output_type": "execute_result",
          "data": {
            "text/plain": [
              "[<matplotlib.lines.Line2D at 0x78a9382036d0>]"
            ]
          },
          "metadata": {},
          "execution_count": 33
        },
        {
          "output_type": "display_data",
          "data": {
            "text/plain": [
              "<Figure size 640x480 with 1 Axes>"
            ],
            "image/png": "[encoded data removed]"
          },
          "metadata": {}
        }
      ]
    },
    {
      "cell_type": "code",
      "source": [
        "plt.figure()\n",
        "plt.subplot(141)\n",
        "plt.title('n =1000,k=97')\n",
        "plt.plot(x,y1)\n",
        "plt.grid(True)\n",
        "\n",
        "plt.subplot(142)\n",
        "plt.plot(x,y2)\n",
        "plt.title('n =1000,k=98')\n",
        "plt.grid(True)\n",
        "\n",
        "plt.subplot(143)\n",
        "plt.plot(x,y3)\n",
        "plt.title('n =1000,k=99')\n",
        "plt.grid(True)\n",
        "\n",
        "plt.subplot(144)\n",
        "plt.plot(x,y4)\n",
        "plt.title('n =1000,k=100')\n",
        "plt.grid(True)\n",
        "\n",
        "plt.subplots_adjust(top=0.92, bottom=0.08, left=0.10, right=0.95, hspace=0.45,wspace=0.35)"
      ],
      "metadata": {
        "id": "8KvC73tl34E4",
        "colab": {
          "base_uri": "https://localhost:8080/",
          "height": 486
        },
        "outputId": "3c76aaee-306e-4668-9e0c-f1b60ab01111"
      },
      "execution_count": 35,
      "outputs": [
        {
          "output_type": "display_data",
          "data": {
            "text/plain": [
              "<Figure size 640x480 with 4 Axes>"
            ],
            "image/png": "[encoded data removed]"
          },
          "metadata": {}
        }
      ]
    },
    {
      "cell_type": "code",
      "source": [
        "plt.figure()\n",
        "plt.subplot(141)\n",
        "plt.title('n =1000,k=101')\n",
        "plt.plot(x,y5)\n",
        "plt.grid(True)\n",
        "\n",
        "plt.subplot(142)\n",
        "plt.plot(x,y6)\n",
        "plt.title('n =1000,k=102')\n",
        "plt.grid(True)\n",
        "\n",
        "plt.subplot(143)\n",
        "plt.plot(x,y7)\n",
        "plt.title('n =1000,k=103')\n",
        "plt.grid(True)\n",
        "\n",
        "plt.subplot(144)\n",
        "plt.plot(x,f_x)\n",
        "plt.title('Actual Graph')\n",
        "plt.grid(True)\n",
        "plt.subplots_adjust(top=0.92, bottom=0.08, left=0.10, right=0.95, hspace=0.45,wspace=0.35)"
      ],
      "metadata": {
        "id": "ZhOTGA9s38Kw",
        "colab": {
          "base_uri": "https://localhost:8080/",
          "height": 486
        },
        "outputId": "c524a27a-f16b-416d-f835-2d2b967e8df1"
      },
      "execution_count": 37,
      "outputs": [
        {
          "output_type": "display_data",
          "data": {
            "text/plain": [
              "<Figure size 640x480 with 4 Axes>"
            ],
            "image/png": "[encoded data removed]"
          },
          "metadata": {}
        }
      ]
    },
    {
      "cell_type": "code",
      "source": [
        "n = 1000\n",
        "k = 300\n",
        "y = get_diag_mat(n,k)\n",
        "y = get_avg_mat(y)\n",
        "y8=np.matmul(y,f_x)\n",
        "n = 1000\n",
        "k = 25\n",
        "y = get_diag_mat(n,k)\n",
        "y = get_avg_mat(y)\n",
        "y9=np.matmul(y,f_x)"
      ],
      "metadata": {
        "id": "eXzNcJ9N3-mv"
      },
      "execution_count": 38,
      "outputs": []
    },
    {
      "cell_type": "code",
      "source": [
        "plt.plot(x,y8,label ='n =1000,k=300')\n",
        "plt.plot(x,y9,label = 'n =1000,k=25')\n",
        "plt.legend(loc='best')"
      ],
      "metadata": {
        "id": "ssucGCOR4BbW",
        "colab": {
          "base_uri": "https://localhost:8080/",
          "height": 450
        },
        "outputId": "dc2fce84-c366-4532-885b-dcfb22c910a9"
      },
      "execution_count": 39,
      "outputs": [
        {
          "output_type": "execute_result",
          "data": {
            "text/plain": [
              "<matplotlib.legend.Legend at 0x78a917fc5120>"
            ]
          },
          "metadata": {},
          "execution_count": 39
        },
        {
          "output_type": "display_data",
          "data": {
            "text/plain": [
              "<Figure size 640x480 with 1 Axes>"
            ],
            "image/png": "[encoded data removed]"
          },
          "metadata": {}
        }
      ]
    }
  ]
}