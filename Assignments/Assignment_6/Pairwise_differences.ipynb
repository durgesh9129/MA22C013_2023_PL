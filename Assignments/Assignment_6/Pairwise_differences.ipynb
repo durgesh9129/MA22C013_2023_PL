{
  "nbformat": 4,
  "nbformat_minor": 0,
  "metadata": {
    "colab": {
      "provenance": [],
      "authorship_tag": "ABX9TyOYfUqVgHcl52yKaWj4dezl",
      "include_colab_link": true
    },
    "kernelspec": {
      "name": "python3",
      "display_name": "Python 3"
    },
    "language_info": {
      "name": "python"
    }
  },
  "cells": [
    {
      "cell_type": "markdown",
      "metadata": {
        "id": "view-in-github",
        "colab_type": "text"
      },
      "source": [
        "<a href=\"https://colab.research.google.com/github/durgeshgitup/MA22C013_2023_PL/blob/main/Assignments/Assignment_6/Pairwise_differences.ipynb\" target=\"_parent\"><img src=\"https://colab.research.google.com/assets/colab-badge.svg\" alt=\"Open In Colab\"/></a>"
      ]
    },
    {
      "cell_type": "code",
      "execution_count": 1,
      "metadata": {
        "colab": {
          "base_uri": "https://localhost:8080/"
        },
        "id": "YlxyxznvE0WX",
        "outputId": "7b0e0411-1140-4bcf-bae7-a7d99f7cd539"
      },
      "outputs": [
        {
          "output_type": "stream",
          "name": "stdout",
          "text": [
            "[[ 0.         -0.95681577 -0.81772352 -0.49678061 -0.30733871]\n",
            " [ 0.95681577  0.          0.13909225  0.46003516  0.64947706]\n",
            " [ 0.81772352 -0.13909225  0.          0.32094291  0.5103848 ]\n",
            " [ 0.49678061 -0.46003516 -0.32094291  0.          0.18944189]\n",
            " [ 0.30733871 -0.64947706 -0.5103848  -0.18944189  0.        ]]\n"
          ]
        }
      ],
      "source": [
        "import numpy as np\n",
        "\n",
        "x = np.random.rand(5)\n",
        "D = np.subtract.outer(x, x)\n",
        "\n",
        "print(D)\n"
      ]
    }
  ]
}