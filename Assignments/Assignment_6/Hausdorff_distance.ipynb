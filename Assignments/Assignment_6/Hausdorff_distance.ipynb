{
  "nbformat": 4,
  "nbformat_minor": 0,
  "metadata": {
    "colab": {
      "provenance": [],
      "authorship_tag": "ABX9TyMY8uZPamuJoNt6VOPzWKiU",
      "include_colab_link": true
    },
    "kernelspec": {
      "name": "python3",
      "display_name": "Python 3"
    },
    "language_info": {
      "name": "python"
    }
  },
  "cells": [
    {
      "cell_type": "markdown",
      "metadata": {
        "id": "view-in-github",
        "colab_type": "text"
      },
      "source": [
        "<a href=\"https://colab.research.google.com/github/durgeshgitup/MA22C013_2023_PL/blob/main/Assignments/Assignment_6/Hausdorff_distance.ipynb\" target=\"_parent\"><img src=\"https://colab.research.google.com/assets/colab-badge.svg\" alt=\"Open In Colab\"/></a>"
      ]
    },
    {
      "cell_type": "markdown",
      "source": [
        "# Task: Given two collections P and Q of points in the plane, compute the Hausdorff distance between sets P and Q. The Hausdorff distance between P and Q, denoted here byH(P, Q), is defned as follows. Let h(P, Q) = max min ∥p - q∥ , p∈P q∈Q , where, for any p ∈ R2, the notation ∥p∥ denotes the Euclidean distance √ p · p. Using this,the Hausdorff distance is defned by, H(P, Q) = max h[(P,Q)(Q, P)]."
      ],
      "metadata": {
        "id": "0cGiKvB2-Mpf"
      }
    },
    {
      "cell_type": "code",
      "source": [
        "import numpy as np\n",
        "\n",
        "# Generate random points for P and Q\n",
        "P = np.random.rand(5, 2)\n",
        "Q = np.random.rand(7, 2)"
      ],
      "metadata": {
        "id": "jm6uDbn1-JYg"
      },
      "execution_count": 1,
      "outputs": []
    },
    {
      "cell_type": "code",
      "source": [
        "# Compute the Hausdorff distance\n",
        "def euclidean_distance(p, q):\n",
        "    return np.linalg.norm(p - q)\n",
        "\n",
        "def hausdorff_distance(P, Q):\n",
        "    max_h_p_q = 0\n",
        "\n",
        "    for p in P:\n",
        "        min_distance_p_q = float('inf')\n",
        "        for q in Q:\n",
        "            distance = euclidean_distance(p, q)\n",
        "            if distance < min_distance_p_q:\n",
        "                min_distance_p_q = distance\n",
        "        if min_distance_p_q > max_h_p_q:\n",
        "            max_h_p_q = min_distance_p_q\n",
        "\n",
        "    max_h_q_p = 0\n",
        "\n",
        "    for q in Q:\n",
        "        min_distance_q_p = float('inf')\n",
        "        for p in P:\n",
        "            distance = euclidean_distance(q, p)\n",
        "            if distance < min_distance_q_p:\n",
        "                min_distance_q_p = distance\n",
        "        if min_distance_q_p > max_h_q_p:\n",
        "            max_h_q_p = min_distance_q_p\n",
        "\n",
        "    return max(max_h_p_q, max_h_q_p)\n",
        "\n",
        "# Compute the Hausdorff distance between P and Q\n",
        "H_PQ = hausdorff_distance(P, Q)\n",
        "H_QP = hausdorff_distance(Q, P)\n",
        "H_PQ = max(H_PQ, H_QP)\n",
        "\n",
        "print(\"Hausdorff distance between P and Q:\", H_PQ)\n"
      ],
      "metadata": {
        "colab": {
          "base_uri": "https://localhost:8080/"
        },
        "id": "IBuW62Mu-ETI",
        "outputId": "349310a4-6c95-401e-981d-c0a61400a8e0"
      },
      "execution_count": 2,
      "outputs": [
        {
          "output_type": "stream",
          "name": "stdout",
          "text": [
            "Hausdorff distance between P and Q: 0.4624511273214503\n"
          ]
        }
      ]
    }
  ]
}