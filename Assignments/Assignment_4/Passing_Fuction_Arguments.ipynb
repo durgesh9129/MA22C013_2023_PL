{
  "nbformat": 4,
  "nbformat_minor": 0,
  "metadata": {
    "colab": {
      "provenance": [],
      "authorship_tag": "ABX9TyMKtbQ/FVJXygtk3673Gewm",
      "include_colab_link": true
    },
    "kernelspec": {
      "name": "python3",
      "display_name": "Python 3"
    },
    "language_info": {
      "name": "python"
    }
  },
  "cells": [
    {
      "cell_type": "markdown",
      "metadata": {
        "id": "view-in-github",
        "colab_type": "text"
      },
      "source": [
        "<a href=\"https://colab.research.google.com/github/durgeshgitup/MA22C013_2023_PL/blob/main/Assignments/Assignment_4/Passing_Fuction_Arguments.ipynb\" target=\"_parent\"><img src=\"https://colab.research.google.com/assets/colab-badge.svg\" alt=\"Open In Colab\"/></a>"
      ]
    },
    {
      "cell_type": "code",
      "execution_count": null,
      "metadata": {
        "id": "6Wf_o0n3z92q"
      },
      "outputs": [],
      "source": [
        "import numpy as np\n",
        "\n",
        "def twice(N):\n",
        "    N *= 2\n",
        "    return N"
      ]
    },
    {
      "cell_type": "code",
      "source": [
        "v = np.array([2, 5, 1])\n",
        "twice(v)\n",
        "print(v)"
      ],
      "metadata": {
        "colab": {
          "base_uri": "https://localhost:8080/"
        },
        "id": "W60pVOhj3dyU",
        "outputId": "a77c4ae3-a939-43bb-c8c8-cdc87800ce38"
      },
      "execution_count": null,
      "outputs": [
        {
          "output_type": "stream",
          "name": "stdout",
          "text": [
            "[ 4 10  2]\n"
          ]
        }
      ]
    },
    {
      "cell_type": "code",
      "source": [
        "s=str([2,5,1])\n",
        "twice(s)"
      ],
      "metadata": {
        "colab": {
          "base_uri": "https://localhost:8080/",
          "height": 36
        },
        "id": "5nmusbsz0M9K",
        "outputId": "f7bd3486-525c-4567-dc6d-bc3d3ca4872c"
      },
      "execution_count": null,
      "outputs": [
        {
          "output_type": "execute_result",
          "data": {
            "text/plain": [
              "'[2, 5, 1][2, 5, 1]'"
            ],
            "application/vnd.google.colaboratory.intrinsic+json": {
              "type": "string"
            }
          },
          "metadata": {},
          "execution_count": 8
        }
      ]
    }
  ]
}