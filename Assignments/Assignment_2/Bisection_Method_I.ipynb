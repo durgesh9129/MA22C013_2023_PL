{
  "nbformat": 4,
  "nbformat_minor": 0,
  "metadata": {
    "colab": {
      "provenance": [],
      "authorship_tag": "ABX9TyMCRZ5LobQVHWrHgKxlzNPK",
      "include_colab_link": true
    },
    "kernelspec": {
      "name": "python3",
      "display_name": "Python 3"
    },
    "language_info": {
      "name": "python"
    }
  },
  "cells": [
    {
      "cell_type": "markdown",
      "metadata": {
        "id": "view-in-github",
        "colab_type": "text"
      },
      "source": [
        "<a href=\"https://colab.research.google.com/github/durgeshgitup/MA22C013_2023_PL/blob/main/Assignments/Assignment_2/Bisection_Method_I.ipynb\" target=\"_parent\"><img src=\"https://colab.research.google.com/assets/colab-badge.svg\" alt=\"Open In Colab\"/></a>"
      ]
    },
    {
      "cell_type": "code",
      "source": [
        "import math\n",
        "def bisection(f, a, b, eps, niters):\n",
        "    if f(a) * f(b) >= 0:\n",
        "        raise ValueError(\"The function f must change sign on the interval [a, b]\")\n",
        "\n",
        "    for _ in range(niters):\n",
        "        m = (a + b) / 2\n",
        "        if abs(b - a) < eps:\n",
        "            return m\n",
        "\n",
        "        if f(m) == 0:\n",
        "            return m\n",
        "        elif f(a) * f(m) < 0:\n",
        "            b = m\n",
        "        else:\n",
        "            a = m\n",
        "\n",
        "    return (a + b) / 2\n",
        "\n"
      ],
      "metadata": {
        "colab": {
          "base_uri": "https://localhost:8080/"
        },
        "id": "xlYsQ0qpS7BW",
        "outputId": "75366a2d-7da6-4704-8bd5-76e23e42d0ef"
      },
      "execution_count": null,
      "outputs": [
        {
          "output_type": "stream",
          "name": "stdout",
          "text": [
            "Approximate root: 1.28342866897583\n"
          ]
        }
      ]
    },
    {
      "cell_type": "code",
      "source": [],
      "metadata": {
        "id": "cSE0hJd9OwM1"
      },
      "execution_count": null,
      "outputs": []
    }
  ]
}