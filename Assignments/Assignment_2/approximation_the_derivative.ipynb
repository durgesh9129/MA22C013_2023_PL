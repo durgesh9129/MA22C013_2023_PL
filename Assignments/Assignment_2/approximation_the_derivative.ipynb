{
  "nbformat": 4,
  "nbformat_minor": 0,
  "metadata": {
    "colab": {
      "provenance": [],
      "authorship_tag": "ABX9TyM9YZ89Gkys0/ARjONaEw1i",
      "include_colab_link": true
    },
    "kernelspec": {
      "name": "python3",
      "display_name": "Python 3"
    },
    "language_info": {
      "name": "python"
    }
  },
  "cells": [
    {
      "cell_type": "markdown",
      "metadata": {
        "id": "view-in-github",
        "colab_type": "text"
      },
      "source": [
        "<a href=\"https://colab.research.google.com/github/durgeshgitup/MA22C013_2023_PL/blob/main/Assignments/Assignment_2/approximation_the_derivative.ipynb\" target=\"_parent\"><img src=\"https://colab.research.google.com/assets/colab-badge.svg\" alt=\"Open In Colab\"/></a>"
      ]
    },
    {
      "cell_type": "markdown",
      "source": [
        "# Approximation the derivative\n"
      ],
      "metadata": {
        "id": "7dAkVog_6Ozj"
      }
    },
    {
      "cell_type": "code",
      "source": [
        "def D2(f, x, h=1E-6):\n",
        "\n",
        "    return (f(x-h) - 2*f(x) + f(x+h)) / (h*h)"
      ],
      "metadata": {
        "id": "5lRMU3MOMvLR"
      },
      "execution_count": null,
      "outputs": []
    },
    {
      "cell_type": "code",
      "source": [
        "from math import sin\n",
        "D2(sin, 0.2)"
      ],
      "metadata": {
        "id": "QjLXu8rnMycB",
        "colab": {
          "base_uri": "https://localhost:8080/"
        },
        "outputId": "704939b7-f08d-4cfd-fa4d-162b82b9265a"
      },
      "execution_count": null,
      "outputs": [
        {
          "output_type": "execute_result",
          "data": {
            "text/plain": [
              "-0.19864665468105613"
            ]
          },
          "metadata": {},
          "execution_count": 2
        }
      ]
    },
    {
      "cell_type": "code",
      "source": [
        "-sin(0.2)"
      ],
      "metadata": {
        "id": "QwbqpjouM1m9",
        "colab": {
          "base_uri": "https://localhost:8080/"
        },
        "outputId": "919bf9f0-6ae1-4ad3-b470-2209b43f463a"
      },
      "execution_count": null,
      "outputs": [
        {
          "output_type": "execute_result",
          "data": {
            "text/plain": [
              "-0.19866933079506122"
            ]
          },
          "metadata": {},
          "execution_count": 3
        }
      ]
    },
    {
      "cell_type": "code",
      "source": [
        "def g(x):\n",
        "    return sin(2*x)\n",
        "D2(g, 0.2)"
      ],
      "metadata": {
        "id": "J-IpK-YBM2hh",
        "colab": {
          "base_uri": "https://localhost:8080/"
        },
        "outputId": "f39ffcfc-96fa-4afb-fa34-5e0d3b3313fa"
      },
      "execution_count": null,
      "outputs": [
        {
          "output_type": "execute_result",
          "data": {
            "text/plain": [
              "-1.5576429035490946"
            ]
          },
          "metadata": {},
          "execution_count": 4
        }
      ]
    },
    {
      "cell_type": "code",
      "source": [
        "D2(lambda x: sin(2*x), 0.2) # central diff approximation"
      ],
      "metadata": {
        "id": "TXE-Lqh6M4cE",
        "colab": {
          "base_uri": "https://localhost:8080/"
        },
        "outputId": "050b95b7-c858-4ea6-8908-a5f5ec5c5c23"
      },
      "execution_count": null,
      "outputs": [
        {
          "output_type": "execute_result",
          "data": {
            "text/plain": [
              "-1.5576429035490946"
            ]
          },
          "metadata": {},
          "execution_count": 5
        }
      ]
    },
    {
      "cell_type": "code",
      "source": [
        "-4*sin(2* 0.2) # actual 2nd derivative value"
      ],
      "metadata": {
        "id": "--cg5zk8M8ik",
        "colab": {
          "base_uri": "https://localhost:8080/"
        },
        "outputId": "0cb24528-267c-4761-b2ac-58227e02e2df"
      },
      "execution_count": null,
      "outputs": [
        {
          "output_type": "execute_result",
          "data": {
            "text/plain": [
              "-1.557673369234602"
            ]
          },
          "metadata": {},
          "execution_count": 6
        }
      ]
    },
    {
      "cell_type": "code",
      "source": [
        "print(' h D2 Result Error')\n",
        "for k in range(4,8):\n",
        "    h = 2**(-k)\n",
        "    d2g = D2(lambda x: x**-6, 1, h=h)\n",
        "    e = d2g - 42\n",
        "    print('%.0e %.5f %7.6f' %(h, d2g, e))"
      ],
      "metadata": {
        "id": "gKm88w95M91A",
        "colab": {
          "base_uri": "https://localhost:8080/"
        },
        "outputId": "7620aa83-184a-4339-e1f8-1636cc18d7fa"
      },
      "execution_count": null,
      "outputs": [
        {
          "output_type": "stream",
          "name": "stdout",
          "text": [
            " h D2 Result Error\n",
            "6e-02 42.99863 0.998629\n",
            "3e-02 42.24698 0.246977\n",
            "2e-02 42.06158 0.061579\n",
            "8e-03 42.01538 0.015384\n"
          ]
        }
      ]
    },
    {
      "cell_type": "code",
      "source": [
        "for k in range(1,14):\n",
        "    h = 10**(-k)\n",
        "    d2g = D2(lambda x: x**-6,1, h)\n",
        "    print('%.0e %18.5f' %(h, d2g))"
      ],
      "metadata": {
        "id": "3s6kzz5XNCBQ",
        "colab": {
          "base_uri": "https://localhost:8080/"
        },
        "outputId": "66e81001-6ecc-467a-f4af-8bb2dc4d51a5"
      },
      "execution_count": null,
      "outputs": [
        {
          "output_type": "stream",
          "name": "stdout",
          "text": [
            "1e-01           44.61504\n",
            "1e-02           42.02521\n",
            "1e-03           42.00025\n",
            "1e-04           42.00000\n",
            "1e-05           41.99999\n",
            "1e-06           42.00074\n",
            "1e-07           41.94423\n",
            "1e-08           47.73959\n",
            "1e-09         -666.13381\n",
            "1e-10            0.00000\n",
            "1e-11            0.00000\n",
            "1e-12   -666133814.77509\n",
            "1e-13  66613381477.50939\n"
          ]
        }
      ]
    },
    {
      "cell_type": "code",
      "source": [],
      "metadata": {
        "id": "mJIIoY6858W0"
      },
      "execution_count": null,
      "outputs": []
    }
  ]
}