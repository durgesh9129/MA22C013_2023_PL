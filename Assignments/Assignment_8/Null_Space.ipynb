{
  "nbformat": 4,
  "nbformat_minor": 0,
  "metadata": {
    "colab": {
      "provenance": [],
      "authorship_tag": "ABX9TyPok4iqm6nu4hPvQjnFDSwL",
      "include_colab_link": true
    },
    "kernelspec": {
      "name": "python3",
      "display_name": "Python 3"
    },
    "language_info": {
      "name": "python"
    }
  },
  "cells": [
    {
      "cell_type": "markdown",
      "metadata": {
        "id": "view-in-github",
        "colab_type": "text"
      },
      "source": [
        "<a href=\"https://colab.research.google.com/github/durgeshgitup/MA22C013_2023_PL/blob/main/Assignments/Assignment_8/Null_Space.ipynb\" target=\"_parent\"><img src=\"https://colab.research.google.com/assets/colab-badge.svg\" alt=\"Open In Colab\"/></a>"
      ]
    },
    {
      "cell_type": "markdown",
      "source": [
        "# Task 1 : Find the Null space of the given matrix A using SVD"
      ],
      "metadata": {
        "id": "IShpI51R22D0"
      }
    },
    {
      "cell_type": "code",
      "source": [
        "import numpy as np\n",
        "\n",
        "# Define a matrix A\n",
        "A = np.array([[1, 2, 3],\n",
        "              [4, 5, 6],\n",
        "              [7, 8, 9]])\n",
        "\n",
        "# Calculate the SVD\n",
        "U, S, VT = np.linalg.svd(A)\n",
        "\n",
        "# Find the null space basis vectors\n",
        "null_space_basis = VT.T[:, np.isclose(S, 0)]\n",
        "\n",
        "# Display the null space basis vectors\n",
        "print(\"Null Space of A using SVD:\")\n",
        "print(null_space_basis)"
      ],
      "metadata": {
        "colab": {
          "base_uri": "https://localhost:8080/"
        },
        "id": "jzcmWBno3H8A",
        "outputId": "7c1f1e48-221f-47e0-c452-93811d19e04a"
      },
      "execution_count": 2,
      "outputs": [
        {
          "output_type": "stream",
          "name": "stdout",
          "text": [
            "Null Space of A using SVD:\n",
            "[[-0.40824829]\n",
            " [ 0.81649658]\n",
            " [-0.40824829]]\n"
          ]
        }
      ]
    },
    {
      "cell_type": "markdown",
      "source": [
        "# Task 2: Find the null space of the same matrix A using the QR factorization.\n",
        "#Use the linear algebra theorem that tells us that the null space of A is equal to the orthogonal complementof the range of the transpose At . (How would you extract the orthogonal complement froma full QR factorization?)"
      ],
      "metadata": {
        "id": "jMIATubj4EAg"
      }
    },
    {
      "cell_type": "code",
      "source": [
        "# QR factorization on the transpose of A\n",
        "Q, R = np.linalg.qr(A.T, mode='complete')\n",
        "\n",
        "# rank of A^T (number of non-zero diagonal elements in R)\n",
        "rank = np.sum(np.abs(np.diagonal(R)) > 1e-10)\n",
        "\n",
        "# Extract the range of A^T (first 'rank' columns of Q)\n",
        "range_of_transpose = Q[:, :rank]\n",
        "\n",
        "# Extract the orthogonal complement (null space of A) from the remaining columns of Q\n",
        "orthogonal_complement = Q[:, rank:]\n",
        "\n",
        "print(\"Null space of  A using QR factorization:\")\n",
        "print(orthogonal_complement)"
      ],
      "metadata": {
        "colab": {
          "base_uri": "https://localhost:8080/"
        },
        "id": "2kSUf6JA3pbQ",
        "outputId": "f8ee42bc-f0a7-4a86-eb0d-d38abf276919"
      },
      "execution_count": 3,
      "outputs": [
        {
          "output_type": "stream",
          "name": "stdout",
          "text": [
            "Null space of  A using QR factorization:\n",
            "[[ 0.40824829]\n",
            " [-0.81649658]\n",
            " [ 0.40824829]]\n"
          ]
        }
      ]
    },
    {
      "cell_type": "code",
      "source": [],
      "metadata": {
        "id": "7-oC0pXx4kg3"
      },
      "execution_count": null,
      "outputs": []
    },
    {
      "cell_type": "markdown",
      "source": [
        "#  Task 3: Check that both answers above span the same space."
      ],
      "metadata": {
        "id": "nQ-O4-684lB3"
      }
    },
    {
      "cell_type": "code",
      "source": [
        "# Null space using SVD\n",
        "U, S, Vt = np.linalg.svd(A)\n",
        "tolerance = 1e-10\n",
        "null_space_svd = Vt.T[:, len(S[S > tolerance]):]\n",
        "\n",
        "# Null space using QR factorization\n",
        "Q, R = np.linalg.qr(A.T, mode='complete')\n",
        "rank = np.sum(np.abs(np.diagonal(R)) > 1e-10)\n",
        "null_space_qr = Q[:, rank:]\n",
        "\n",
        "# Check if the rows of the null space matrices are linearly dependent\n",
        "linearly_dependent_svd = np.linalg.matrix_rank(null_space_svd) < null_space_svd.shape[0]\n",
        "linearly_dependent_qr = np.linalg.matrix_rank(null_space_qr) < null_space_qr.shape[0]\n",
        "\n",
        "if linearly_dependent_svd and linearly_dependent_qr:\n",
        "    print(\"The null space matrices span the same space.\")\n",
        "else:\n",
        "    print(\"The null space matrices do not span the same space.\")"
      ],
      "metadata": {
        "colab": {
          "base_uri": "https://localhost:8080/"
        },
        "id": "PaFWprrL4fYy",
        "outputId": "b257eceb-982d-4eeb-c820-21e0ba965d4a"
      },
      "execution_count": 4,
      "outputs": [
        {
          "output_type": "stream",
          "name": "stdout",
          "text": [
            "The null space matrices span the same space.\n"
          ]
        }
      ]
    }
  ]
}