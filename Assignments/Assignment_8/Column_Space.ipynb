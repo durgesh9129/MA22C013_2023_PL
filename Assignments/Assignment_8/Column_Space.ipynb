{
  "nbformat": 4,
  "nbformat_minor": 0,
  "metadata": {
    "colab": {
      "provenance": [],
      "authorship_tag": "ABX9TyO6V0reR2+2/XZnk8WIL0zu",
      "include_colab_link": true
    },
    "kernelspec": {
      "name": "python3",
      "display_name": "Python 3"
    },
    "language_info": {
      "name": "python"
    }
  },
  "cells": [
    {
      "cell_type": "markdown",
      "metadata": {
        "id": "view-in-github",
        "colab_type": "text"
      },
      "source": [
        "<a href=\"https://colab.research.google.com/github/durgeshgitup/MA22C013_2023_PL/blob/main/Assignments/Assignment_8/Column_Space.ipynb\" target=\"_parent\"><img src=\"https://colab.research.google.com/assets/colab-badge.svg\" alt=\"Open In Colab\"/></a>"
      ]
    },
    {
      "cell_type": "markdown",
      "source": [
        "# Task 1: Computing Basis for the Column Space Using QR and SVD"
      ],
      "metadata": {
        "id": "3RdyVmpQSnYa"
      }
    },
    {
      "cell_type": "code",
      "source": [
        "import numpy as np\n",
        "from scipy.linalg import qr\n",
        "from scipy.linalg import svd\n",
        "A = np.array([[1, -2, 3], [2, -4, 9], [-3, 6, -9]])\n",
        "Q, R = qr(A, mode='economic')\n",
        "column_space_basis_qr = Q"
      ],
      "metadata": {
        "id": "AEcJy2ZpSsCJ"
      },
      "execution_count": 13,
      "outputs": []
    },
    {
      "cell_type": "code",
      "source": [
        "A"
      ],
      "metadata": {
        "colab": {
          "base_uri": "https://localhost:8080/"
        },
        "id": "xUxpzpSxSyQK",
        "outputId": "2e73ba2d-b454-46a5-8cb5-f4f82bedbb93"
      },
      "execution_count": 14,
      "outputs": [
        {
          "output_type": "execute_result",
          "data": {
            "text/plain": [
              "array([[ 1, -2,  3],\n",
              "       [ 2, -4,  9],\n",
              "       [-3,  6, -9]])"
            ]
          },
          "metadata": {},
          "execution_count": 14
        }
      ]
    },
    {
      "cell_type": "code",
      "source": [
        "U, S, Vt = np.linalg.svd(A)\n",
        "column_space_basis_svd = U\n",
        "print(column_space_basis_svd)"
      ],
      "metadata": {
        "id": "HYio_CjBSzZm",
        "colab": {
          "base_uri": "https://localhost:8080/"
        },
        "outputId": "7e89457c-f1fd-4f9c-a991-6dd8d2b57830"
      },
      "execution_count": 15,
      "outputs": [
        {
          "output_type": "stream",
          "name": "stdout",
          "text": [
            "[[-2.41287499e-01  2.04402404e-01  9.48683298e-01]\n",
            " [-6.46377156e-01 -7.63018068e-01  2.77555756e-16]\n",
            " [ 7.23862498e-01 -6.13207212e-01  3.16227766e-01]]\n"
          ]
        }
      ]
    },
    {
      "cell_type": "code",
      "source": [
        "# We compute a basis for the column space using QR factorization\n",
        "Q, _ = qr(A, mode='economic')\n",
        "column_space_basis_qr = Q\n",
        "\n",
        "# We Compute a basis for the column space using SVD\n",
        "U, _, _ = svd(A)\n",
        "column_space_basis_svd = U\n",
        "print(\"Basis for the column space using QR:\")\n",
        "print(column_space_basis_qr)\n",
        "print(\"\\nBasis for the column space using SVD:\")\n",
        "print(column_space_basis_svd)"
      ],
      "metadata": {
        "id": "AU1JBgyxS6NS",
        "colab": {
          "base_uri": "https://localhost:8080/"
        },
        "outputId": "0aa64d1d-8eb5-479a-f799-7f3d92528076"
      },
      "execution_count": 16,
      "outputs": [
        {
          "output_type": "stream",
          "name": "stdout",
          "text": [
            "Basis for the column space using QR:\n",
            "[[-0.26726124  0.95618289 -0.11952286]\n",
            " [-0.53452248 -0.04390192  0.84401323]\n",
            " [ 0.80178373  0.28945968  0.52283453]]\n",
            "\n",
            "Basis for the column space using SVD:\n",
            "[[-2.41287499e-01  2.04402404e-01  9.48683298e-01]\n",
            " [-6.46377156e-01 -7.63018068e-01  2.77555756e-16]\n",
            " [ 7.23862498e-01 -6.13207212e-01  3.16227766e-01]]\n"
          ]
        }
      ]
    },
    {
      "cell_type": "markdown",
      "source": [
        "# Task 2: Checking Equivalence of Column Spaces"
      ],
      "metadata": {
        "id": "H-CeRZsoTAIB"
      }
    },
    {
      "cell_type": "code",
      "source": [
        "# Basis of column space using QR factorization\n",
        "Q, _ = qr(A, mode='economic')\n",
        "\n",
        "# Basis of column space using SVD\n",
        "U, _, _ = svd(A)\n",
        "\n",
        "# if the dimensions of the column spaces are the same\n",
        "if Q.shape[1] == U.shape[1]:\n",
        "    print(\"Dimensions of column spaces are the same.\")\n",
        "\n",
        "# if the column spaces have the same subspace spanned by the basis vectors\n",
        "if np.allclose(np.dot(A, Q), np.dot(A, U)):\n",
        "    print(\"Column spaces are the same.\")\n",
        "else:\n",
        "    print(\"Column spaces are different.\")"
      ],
      "metadata": {
        "id": "D1ng2255TJcT",
        "colab": {
          "base_uri": "https://localhost:8080/"
        },
        "outputId": "50f947a5-6850-4fe7-bee1-cdbda8ff35ae"
      },
      "execution_count": 17,
      "outputs": [
        {
          "output_type": "stream",
          "name": "stdout",
          "text": [
            "Dimensions of column spaces are the same.\n",
            "Column spaces are different.\n"
          ]
        }
      ]
    },
    {
      "cell_type": "markdown",
      "source": [
        "# Task 3: Comparing the Speed of QR and SVD for a 500x500 Random Matrix"
      ],
      "metadata": {
        "id": "N82RKdGyTZ-F"
      }
    },
    {
      "cell_type": "code",
      "source": [
        "import timeit\n",
        "# Compute a random 500x500 matrix\n",
        "np.random.seed(0)  # for reproducibility\n",
        "A = np.random.rand(500, 500)\n",
        "\n",
        "# Timing for QR factorization\n",
        "qr_time = timeit.timeit(lambda: qr(A, mode='economic'), number=100)\n",
        "\n",
        "# Timing for SVD\n",
        "svd_time = timeit.timeit(lambda: svd(A), number=100)\n",
        "\n",
        "print(f\"Time taken for QR factorization: {qr_time:.4f} seconds\")\n",
        "print(f\"Time taken for SVD: {svd_time:4f} seconds\")\n",
        "\n",
        "if qr_time < svd_time:\n",
        "    print(\"QR factorization is faster.\")\n",
        "else:\n",
        "    print(\"SVD is faster.\")"
      ],
      "metadata": {
        "id": "4quEASoKTa-s",
        "colab": {
          "base_uri": "https://localhost:8080/"
        },
        "outputId": "5f77b1dd-baa4-4d33-d99e-6f918008066e"
      },
      "execution_count": 19,
      "outputs": [
        {
          "output_type": "stream",
          "name": "stdout",
          "text": [
            "Time taken for QR factorization: 3.0883 seconds\n",
            "Time taken for SVD: 14.265739 seconds\n",
            "QR factorization is faster.\n"
          ]
        }
      ]
    }
  ]
}