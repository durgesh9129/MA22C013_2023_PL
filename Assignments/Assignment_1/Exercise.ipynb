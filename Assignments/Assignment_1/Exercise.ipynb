{
 "cells": [
  {
   "cell_type": "markdown",
   "id": "703ccd3a",
   "metadata": {},
   "source": [
    "# Power Sum"
   ]
  },
  {
   "cell_type": "code",
   "execution_count": 1,
   "id": "9c116b55",
   "metadata": {},
   "outputs": [
    {
     "name": "stdout",
     "output_type": "stream",
     "text": [
      "Enter integer N: 5\n",
      "Enter integer i: 9\n",
      "1953125\n"
     ]
    }
   ],
   "source": [
    "N = int(input(\"Enter integer N: \"))\n",
    "i = int(input(\"Enter integer i: \"))\n",
    "sum = 0\n",
    "for k in range(1, N+1):\n",
    "    sum = k**i\n",
    "print(sum)"
   ]
  },
  {
   "cell_type": "code",
   "execution_count": null,
   "id": "8fb87b73",
   "metadata": {},
   "outputs": [],
   "source": []
  }
 ],
 "metadata": {
  "kernelspec": {
   "display_name": "Python 3 (ipykernel)",
   "language": "python",
   "name": "python3"
  },
  "language_info": {
   "codemirror_mode": {
    "name": "ipython",
    "version": 3
   },
   "file_extension": ".py",
   "mimetype": "text/x-python",
   "name": "python",
   "nbconvert_exporter": "python",
   "pygments_lexer": "ipython3",
   "version": "3.10.9"
  }
 },
 "nbformat": 4,
 "nbformat_minor": 5
}
