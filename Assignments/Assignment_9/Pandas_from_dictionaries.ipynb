{
  "nbformat": 4,
  "nbformat_minor": 0,
  "metadata": {
    "colab": {
      "provenance": [],
      "authorship_tag": "ABX9TyO2UihL2i6BWj5hI5x4mrep",
      "include_colab_link": true
    },
    "kernelspec": {
      "name": "python3",
      "display_name": "Python 3"
    },
    "language_info": {
      "name": "python"
    }
  },
  "cells": [
    {
      "cell_type": "markdown",
      "metadata": {
        "id": "view-in-github",
        "colab_type": "text"
      },
      "source": [
        "<a href=\"https://colab.research.google.com/github/durgeshgitup/MA22C013_2023_PL/blob/main/Assignments/Assignment_9/Pandas_from_dictionaries.ipynb\" target=\"_parent\"><img src=\"https://colab.research.google.com/assets/colab-badge.svg\" alt=\"Open In Colab\"/></a>"
      ]
    },
    {
      "cell_type": "markdown",
      "source": [
        "# 1. Convert d0 to a corresponding pandas object pd0."
      ],
      "metadata": {
        "id": "-2hVTkRFJW8_"
      }
    },
    {
      "cell_type": "code",
      "source": [
        "import pandas as pd\n",
        "\n",
        "d0 = {2: 'a', 1: 'b', 3: 'c'}\n",
        "pd0 = pd.DataFrame(d0, index=[0])\n",
        "print(pd0)"
      ],
      "metadata": {
        "colab": {
          "base_uri": "https://localhost:8080/"
        },
        "id": "SqOEXHhCJbtq",
        "outputId": "dd713ff1-f99c-4f2f-ec36-0b4904fc1052"
      },
      "execution_count": null,
      "outputs": [
        {
          "output_type": "stream",
          "name": "stdout",
          "text": [
            "   2  1  3\n",
            "0  a  b  c\n"
          ]
        }
      ]
    },
    {
      "cell_type": "markdown",
      "source": [
        "# 2. Sort indices of pd0."
      ],
      "metadata": {
        "id": "HPtmkWRHJMei"
      }
    },
    {
      "cell_type": "code",
      "source": [
        "pd0 = pd0.sort_index()\n",
        "print(pd0)"
      ],
      "metadata": {
        "colab": {
          "base_uri": "https://localhost:8080/"
        },
        "id": "veWwjIH3JZYj",
        "outputId": "a8dfccda-e880-49c1-8d75-ff7898d47821"
      },
      "execution_count": null,
      "outputs": [
        {
          "output_type": "stream",
          "name": "stdout",
          "text": [
            "   2  1  3\n",
            "0  a  b  c\n"
          ]
        }
      ]
    },
    {
      "cell_type": "markdown",
      "source": [
        "# 3. Convert d1, d2 (together) to a pandas object dd"
      ],
      "metadata": {
        "id": "eteqQiDLJGuV"
      }
    },
    {
      "cell_type": "code",
      "source": [
        "import pandas as pd"
      ],
      "metadata": {
        "id": "Eb2-t3OUKZg6"
      },
      "execution_count": null,
      "outputs": []
    },
    {
      "cell_type": "code",
      "source": [
        "d1 = {'a': 1, 'b': 2}\n",
        "d2 = {'b': 3, 'c': 4}\n",
        "dd = pd.DataFrame({'d1': d1, 'd2': d2})\n",
        "print(dd)"
      ],
      "metadata": {
        "colab": {
          "base_uri": "https://localhost:8080/"
        },
        "id": "ZEyKtZbG_w2D",
        "outputId": "ba4dba5f-cc4a-47d4-a470-5a630ed291cc"
      },
      "execution_count": null,
      "outputs": [
        {
          "output_type": "stream",
          "name": "stdout",
          "text": [
            "    d1   d2\n",
            "a  1.0  NaN\n",
            "b  2.0  3.0\n",
            "c  NaN  4.0\n"
          ]
        }
      ]
    },
    {
      "cell_type": "markdown",
      "source": [
        "# 4. Give examples of indexing and slicing on dd"
      ],
      "metadata": {
        "id": "0cLFyRrvI1oH"
      }
    },
    {
      "cell_type": "code",
      "source": [
        "# Indexing\n",
        "value_at_a = dd['d1']['a']\n",
        "print(value_at_a)"
      ],
      "metadata": {
        "id": "z7VoQIXrI6W9",
        "colab": {
          "base_uri": "https://localhost:8080/"
        },
        "outputId": "ed93466f-8630-470a-83ec-52eaf98eaa18"
      },
      "execution_count": null,
      "outputs": [
        {
          "output_type": "stream",
          "name": "stdout",
          "text": [
            "1.0\n"
          ]
        }
      ]
    },
    {
      "cell_type": "code",
      "source": [
        "#Slicing\n",
        "sliced_rows = dd.loc[['a', 'b']]\n",
        "print(sliced_rows)"
      ],
      "metadata": {
        "colab": {
          "base_uri": "https://localhost:8080/"
        },
        "id": "RreQrvnSHtk1",
        "outputId": "729de0e1-7eec-4a86-fd29-a170a7ee7143"
      },
      "execution_count": null,
      "outputs": [
        {
          "output_type": "stream",
          "name": "stdout",
          "text": [
            "    d1   d2\n",
            "a  1.0  NaN\n",
            "b  2.0  3.0\n"
          ]
        }
      ]
    },
    {
      "cell_type": "markdown",
      "source": [
        "# 5. Give examples of implicit and explicit indexing on dd."
      ],
      "metadata": {
        "id": "vrWI33OJKD02"
      }
    },
    {
      "cell_type": "code",
      "source": [
        "implicit_indexing = dd.iloc[0]\n",
        "print(implicit_indexing)"
      ],
      "metadata": {
        "id": "VVw91iEUIS9o",
        "colab": {
          "base_uri": "https://localhost:8080/"
        },
        "outputId": "1e40f832-9872-4915-a131-4380a7ad40bb"
      },
      "execution_count": null,
      "outputs": [
        {
          "output_type": "stream",
          "name": "stdout",
          "text": [
            "d1    1.0\n",
            "d2    NaN\n",
            "Name: a, dtype: float64\n"
          ]
        }
      ]
    },
    {
      "cell_type": "code",
      "source": [
        "explicit_indexing = dd.loc[:, 'd1']  # Accessing column 'd1'\n",
        "print(explicit_indexing)"
      ],
      "metadata": {
        "colab": {
          "base_uri": "https://localhost:8080/"
        },
        "id": "tBhsoRwR-T44",
        "outputId": "45d76857-1228-4a55-9b13-a43c8c1806b0"
      },
      "execution_count": null,
      "outputs": [
        {
          "output_type": "stream",
          "name": "stdout",
          "text": [
            "a    1.0\n",
            "b    2.0\n",
            "c    NaN\n",
            "Name: d1, dtype: float64\n"
          ]
        }
      ]
    },
    {
      "cell_type": "markdown",
      "source": [
        "# 6. Forward fll and backfll missing values using various axis."
      ],
      "metadata": {
        "id": "3YGHM8asKGPG"
      }
    },
    {
      "cell_type": "code",
      "source": [
        "forward_filled = dd.fillna(method='ffill', axis=0)\n",
        "print(forward_filled)"
      ],
      "metadata": {
        "id": "ZexXDkXzKJ46",
        "colab": {
          "base_uri": "https://localhost:8080/"
        },
        "outputId": "ba9a573c-7113-406f-e2c5-5f5d8f7679f3"
      },
      "execution_count": null,
      "outputs": [
        {
          "output_type": "stream",
          "name": "stdout",
          "text": [
            "    d1   d2\n",
            "a  1.0  NaN\n",
            "b  2.0  3.0\n",
            "c  2.0  4.0\n"
          ]
        }
      ]
    },
    {
      "cell_type": "code",
      "source": [
        "# Backfill (fill NaN values with the next value)\n",
        "backfilled = dd.fillna(method='bfill', axis=0)\n",
        "print(backfilled)"
      ],
      "metadata": {
        "colab": {
          "base_uri": "https://localhost:8080/"
        },
        "id": "83CTm-TS_jdC",
        "outputId": "bdfe1a7d-f330-476b-c1eb-7091c54bafd9"
      },
      "execution_count": null,
      "outputs": [
        {
          "output_type": "stream",
          "name": "stdout",
          "text": [
            "    d1   d2\n",
            "a  1.0  3.0\n",
            "b  2.0  3.0\n",
            "c  NaN  4.0\n"
          ]
        }
      ]
    },
    {
      "cell_type": "code",
      "source": [],
      "metadata": {
        "id": "4G5rbLXu_kKw"
      },
      "execution_count": null,
      "outputs": []
    }
  ]
}