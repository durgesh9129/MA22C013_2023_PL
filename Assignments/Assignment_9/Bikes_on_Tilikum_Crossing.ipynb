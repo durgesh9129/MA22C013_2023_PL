{
  "nbformat": 4,
  "nbformat_minor": 0,
  "metadata": {
    "colab": {
      "provenance": [],
      "authorship_tag": "ABX9TyNuUEA9gvn+wQbBHBod/HxU",
      "include_colab_link": true
    },
    "kernelspec": {
      "name": "python3",
      "display_name": "Python 3"
    },
    "language_info": {
      "name": "python"
    }
  },
  "cells": [
    {
      "cell_type": "markdown",
      "metadata": {
        "id": "view-in-github",
        "colab_type": "text"
      },
      "source": [
        "<a href=\"https://colab.research.google.com/github/durgeshgitup/MA22C013_2023_PL/blob/main/Assignments/Assignment_9/Bikes_on_Tilikum_Crossing.ipynb\" target=\"_parent\"><img src=\"https://colab.research.google.com/assets/colab-badge.svg\" alt=\"Open In Colab\"/></a>"
      ]
    },
    {
      "cell_type": "code",
      "execution_count": null,
      "metadata": {
        "id": "zKINoaKgB2IJ"
      },
      "outputs": [],
      "source": [
        "import pandas as pd\n",
        "import numpy as np\n",
        "import matplotlib.pyplot as plt\n",
        "import seaborn; seaborn.set()"
      ]
    },
    {
      "cell_type": "code",
      "source": [],
      "metadata": {
        "id": "6EY3NRKgC8HZ"
      },
      "execution_count": null,
      "outputs": []
    },
    {
      "cell_type": "markdown",
      "source": [
        "# XI.1 Initial examination of the data"
      ],
      "metadata": {
        "id": "V8MbVRG-C-mY"
      }
    },
    {
      "cell_type": "code",
      "source": [
        "# metadata file (small file)\n",
        "tm = pd.read_csv('../../data_external/tilikum_metadata.csv')\n",
        "# data file (large file)\n",
        "td = pd.read_csv('../../data_external/tilikum_20200501.csv')\n",
        "td.head()"
      ],
      "metadata": {
        "id": "Q6CjTPKzA5k4"
      },
      "execution_count": null,
      "outputs": []
    },
    {
      "cell_type": "code",
      "source": [
        "td.tail()"
      ],
      "metadata": {
        "id": "tZ6mqyA5BEPJ"
      },
      "execution_count": null,
      "outputs": []
    },
    {
      "cell_type": "code",
      "source": [
        "dif = pd.to_datetime(td['end_time']) - pd.to_datetime(td['start_time'])\n",
        "(dif == dif[0]).all()"
      ],
      "metadata": {
        "id": "hhiEHB3sDcya"
      },
      "execution_count": null,
      "outputs": []
    },
    {
      "cell_type": "code",
      "source": [
        "td = td.rename(columns={'start_time':'time'}).drop(columns=['end_time','measure_period', 'id'])"
      ],
      "metadata": {
        "id": "FSSBffrcDj94"
      },
      "execution_count": null,
      "outputs": []
    },
    {
      "cell_type": "code",
      "source": [
        "(td.flow_detector_id==1904).sum()"
      ],
      "metadata": {
        "id": "BiDoJPUgDmsN"
      },
      "execution_count": null,
      "outputs": []
    },
    {
      "cell_type": "code",
      "source": [
        "tE = td.loc[td['flow_detector_id']==1903, ['time', 'volume']]\n",
        "tE.index = pd.DatetimeIndex(pd.to_datetime(tE['time'])).tz_convert('US/Pacific')\n",
        "tE = tE.drop(columns=['time']).rename(columns={'volume':'Eastbound'})"
      ],
      "metadata": {
        "id": "rv-vI6S4DpSZ"
      },
      "execution_count": null,
      "outputs": []
    },
    {
      "cell_type": "code",
      "source": [
        "tW = td.loc[td['flow_detector_id']==1905, ['time', 'volume']]\n",
        "tW.index = pd.DatetimeIndex(pd.to_datetime(tW['time'])).tz_convert('US/Pacific')\n",
        "tW = tW.drop(columns=['time']).rename(columns={'volume':'Westbound'})"
      ],
      "metadata": {
        "id": "qn0uO7V3Drjl"
      },
      "execution_count": null,
      "outputs": []
    },
    {
      "cell_type": "code",
      "source": [
        "tE.plot();"
      ],
      "metadata": {
        "id": "GErofSJtDuXS"
      },
      "execution_count": null,
      "outputs": []
    },
    {
      "cell_type": "code",
      "source": [
        "tE['2018-11-25':'2019-06-01'].plot();"
      ],
      "metadata": {
        "id": "KFTAxDQODwst"
      },
      "execution_count": null,
      "outputs": []
    },
    {
      "cell_type": "code",
      "source": [
        "tE['2018-11-25':'2019-06-01'] = np.nan"
      ],
      "metadata": {
        "id": "tqBDkCWvD0l-"
      },
      "execution_count": null,
      "outputs": []
    },
    {
      "cell_type": "code",
      "source": [
        "tE[tE > 1000] = np.nan\n",
        "tW[tW > 1000] = np.nan"
      ],
      "metadata": {
        "id": "f8FDOXMsD29y"
      },
      "execution_count": null,
      "outputs": []
    },
    {
      "cell_type": "markdown",
      "source": [
        "# XI.2 Visualize cleaned up data"
      ],
      "metadata": {
        "id": "-Vx4rwDcD5Dq"
      }
    },
    {
      "cell_type": "code",
      "source": [
        "t = pd.merge(tE, tW, on='time')\n",
        "t.plot(alpha=0.7, style=['-',':']);"
      ],
      "metadata": {
        "id": "nU83xUNXD59P"
      },
      "execution_count": null,
      "outputs": []
    },
    {
      "cell_type": "code",
      "source": [
        "t.resample('W').sum().plot(style=['-',':'], title='Weekly bike counts on␣Tilikum');"
      ],
      "metadata": {
        "id": "nYNEBzSUD_Hz"
      },
      "execution_count": null,
      "outputs": []
    },
    {
      "cell_type": "markdown",
      "source": [
        "# XI.3 The pattern of use"
      ],
      "metadata": {
        "id": "cc76NcMFEBb3"
      }
    },
    {
      "cell_type": "code",
      "source": [
        "def weekplot(d, onlyweekend=False, title=None):\n",
        "  weekend = np.where(d.index.weekday < 5, 'Weekday', 'Weekend')\n",
        "  by_time = d.groupby([weekend, d.index.time]).mean()\n",
        "  if onlyweekend:\n",
        "    if title is None: title = 'Bikes per 15-min during weekends'\n",
        "    by_time.loc['Weekend'].plot(title=title)\n",
        "  else:\n",
        "    if title is None: title = 'Bikes per 15-min during weekdays'\n",
        "    by_time.loc['Weekday'].plot(title=title)\n",
        "weekplot(t)"
      ],
      "metadata": {
        "id": "dYa36MEzECHy"
      },
      "execution_count": null,
      "outputs": []
    },
    {
      "cell_type": "code",
      "source": [
        "weekplot(t, onlyweekend=True)"
      ],
      "metadata": {
        "id": "DXuqUFS2EG-1"
      },
      "execution_count": null,
      "outputs": []
    },
    {
      "cell_type": "markdown",
      "source": [
        "# XI.4 Changes due to isolation"
      ],
      "metadata": {
        "id": "VpkSoWayEJRt"
      }
    },
    {
      "cell_type": "code",
      "source": [
        "weekplot(t.loc[:'2020-03-17'], title='Before social distancing')"
      ],
      "metadata": {
        "id": "FMNJ2s6mEK6u"
      },
      "execution_count": null,
      "outputs": []
    },
    {
      "cell_type": "code",
      "source": [
        "weekplot(t.loc['2020-03-17':], title='After social distancing')"
      ],
      "metadata": {
        "id": "GK8gXudVEPrs"
      },
      "execution_count": null,
      "outputs": []
    },
    {
      "cell_type": "code",
      "source": [
        "t.loc[:'2020-03-17'].mean() - t.loc['2020-03-17':].mean()"
      ],
      "metadata": {
        "id": "e2PsVCVYESRh"
      },
      "execution_count": null,
      "outputs": []
    },
    {
      "cell_type": "code",
      "source": [
        "t.loc[:'2020-03-17'].resample('W').sum().mean() - t.loc['2020-03-17':].resample('W').sum().mean()"
      ],
      "metadata": {
        "id": "9NmabHdcEUj0"
      },
      "execution_count": null,
      "outputs": []
    },
    {
      "cell_type": "code",
      "source": [],
      "metadata": {
        "id": "SMiv8yqKEWoI"
      },
      "execution_count": null,
      "outputs": []
    },
    {
      "cell_type": "markdown",
      "source": [
        "# XI.5 Comparison with Seattle’s Fremont bridge"
      ],
      "metadata": {
        "id": "JAoRlhKUEXfX"
      }
    },
    {
      "cell_type": "code",
      "source": [
        "import os\n",
        "import shutil\n",
        "import urllib\n",
        "url = \"https://data.seattle.gov/api/views/65db-xm6k/rows.csv?accessType=DOWNLOAD\"\n",
        "f = \"../../data_external/Fremont_Bridge_Bicycle_Counter.csv\"\n",
        "if not os.path.isdir('../../data_external/'):\n",
        "  os.mkdir('../../data_external/')\n",
        "if not os.path.exists(f):\n",
        "  with open(f, 'wb') as fo:\n",
        "    r = urllib.request.urlopen(url)\n",
        "    shutil.copyfileobj(r, fo)"
      ],
      "metadata": {
        "id": "AwaP0QmCEYPO"
      },
      "execution_count": null,
      "outputs": []
    },
    {
      "cell_type": "code",
      "source": [
        "sd = pd.read_csv(f)\n",
        "sd.tail()"
      ],
      "metadata": {
        "id": "nZE_g_v3EdZX"
      },
      "execution_count": null,
      "outputs": []
    },
    {
      "cell_type": "code",
      "source": [
        "sd = sd.rename(columns={'Date' : 'time',\n",
        "'Fremont Bridge East Sidewalk' : 'East',\n",
        "'Fremont Bridge West Sidewalk' : 'West'})\n",
        "sd.index = pd.to_datetime(sd.loc[:, 'time'])\n",
        "sd = sd.drop(columns=['time', 'Fremont Bridge Total'])\n",
        "sd.head()"
      ],
      "metadata": {
        "id": "kG-ras1YEfhN"
      },
      "execution_count": null,
      "outputs": []
    },
    {
      "cell_type": "markdown",
      "source": [
        "# XI.5.1 Volume comparison"
      ],
      "metadata": {
        "id": "8oYSCxQuEhgU"
      }
    },
    {
      "cell_type": "code",
      "source": [],
      "metadata": {
        "id": "n7ZPRfi4EjMc"
      },
      "execution_count": null,
      "outputs": []
    },
    {
      "cell_type": "code",
      "source": [
        "th = t.resample('H').sum()\n",
        "th.describe() # Portland's Tilikum"
      ],
      "metadata": {
        "id": "gB1_vG_6ElWN"
      },
      "execution_count": null,
      "outputs": []
    },
    {
      "cell_type": "code",
      "source": [
        "sd.describe() # Seattle's Fremont"
      ],
      "metadata": {
        "id": "4-gVN0bOEpan"
      },
      "execution_count": null,
      "outputs": []
    },
    {
      "cell_type": "code",
      "source": [
        "sw = sd.resample('W').sum()\n",
        "tw = t.resample('W').sum()\n",
        "fig, axs = plt.subplots(1, 2, figsize=(13, 3), sharey=True)\n",
        "plt.subplots_adjust(wspace=0.05)\n",
        "sw.plot(ax=axs[0], title='Fremont bridge (Seattle) bikes/week');\n",
        "tw.plot(ax=axs[1], title='Tilikum bridge (Portland) bikes/week');"
      ],
      "metadata": {
        "id": "xBez9jKMEr79"
      },
      "execution_count": null,
      "outputs": []
    },
    {
      "cell_type": "code",
      "source": [
        "weekplot(sd, title='Fremont (Seattle) on weekdays (Bikes/hr)')\n",
        "weekplot(th, title='Tilikum (Portland) on weekdays (Bikes/hr)')"
      ],
      "metadata": {
        "id": "MhXahtu4Ew4H"
      },
      "execution_count": null,
      "outputs": []
    },
    {
      "cell_type": "markdown",
      "source": [
        "# XI.5.3 Changes after social distancing"
      ],
      "metadata": {
        "id": "1bACS3x9Eza_"
      }
    },
    {
      "cell_type": "code",
      "source": [
        "weekplot(sd['2020-03-17':], title='Fremont (Seattle): Weekdays after␣social distancing'); plt.ylabel('Bikes/hour');\n",
        "weekplot(th['2020-03-17':], title='Tilikum (Portland): Weekdays after␣social distancing'); plt.ylabel('Bikes/hour');"
      ],
      "metadata": {
        "id": "o8VP50jVE4Rz"
      },
      "execution_count": null,
      "outputs": []
    }
  ]
}