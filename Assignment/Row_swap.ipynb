{
  "nbformat": 4,
  "nbformat_minor": 0,
  "metadata": {
    "colab": {
      "provenance": [],
      "authorship_tag": "ABX9TyNnhNgSXg755IMnP/vSk/rZ",
      "include_colab_link": true
    },
    "kernelspec": {
      "name": "python3",
      "display_name": "Python 3"
    },
    "language_info": {
      "name": "python"
    }
  },
  "cells": [
    {
      "cell_type": "markdown",
      "metadata": {
        "id": "view-in-github",
        "colab_type": "text"
      },
      "source": [
        "<a href=\"https://colab.research.google.com/github/durgeshgitup/MA22C013_2023_PL/blob/main/Assignment/Row_swap.ipynb\" target=\"_parent\"><img src=\"https://colab.research.google.com/assets/colab-badge.svg\" alt=\"Open In Colab\"/></a>"
      ]
    },
    {
      "cell_type": "code",
      "execution_count": null,
      "metadata": {
        "id": "6vM45iJoDVID"
      },
      "outputs": [],
      "source": [
        "import numpy as np"
      ]
    },
    {
      "cell_type": "code",
      "source": [
        "def swaprow(i, j, A):\n",
        "  tmp = A[i, :]\n",
        "  A[i, :] = A[j, :]\n",
        "  A[j, :] = tmp\n",
        "  return A"
      ],
      "metadata": {
        "id": "riDpgYu1D1S2"
      },
      "execution_count": null,
      "outputs": []
    },
    {
      "cell_type": "code",
      "source": [
        "def swaprow_1(i, j, A):\n",
        "  A[[i,j]] = A[[j,i]]\n",
        "  return A"
      ],
      "metadata": {
        "id": "bKGjQTFbobBM"
      },
      "execution_count": null,
      "outputs": []
    },
    {
      "cell_type": "code",
      "source": [
        "A = np.array([[5,7,6],[2,6,7],[8,9,1]])\n",
        "print(A)"
      ],
      "metadata": {
        "colab": {
          "base_uri": "https://localhost:8080/"
        },
        "id": "_VTyhh6Qog8z",
        "outputId": "631dbc0f-c5b1-4490-b844-7977393feff5"
      },
      "execution_count": null,
      "outputs": [
        {
          "output_type": "stream",
          "name": "stdout",
          "text": [
            "[[5 7 6]\n",
            " [2 6 7]\n",
            " [8 9 1]]\n"
          ]
        }
      ]
    },
    {
      "cell_type": "code",
      "source": [
        "swaprow_1(0,1,A)"
      ],
      "metadata": {
        "colab": {
          "base_uri": "https://localhost:8080/"
        },
        "id": "69jW3gbKooA6",
        "outputId": "b95dcc33-10ba-4cd6-ded6-36da939379a2"
      },
      "execution_count": null,
      "outputs": [
        {
          "output_type": "execute_result",
          "data": {
            "text/plain": [
              "array([[2, 6, 7],\n",
              "       [5, 7, 6],\n",
              "       [8, 9, 1]])"
            ]
          },
          "metadata": {},
          "execution_count": 10
        }
      ]
    },
    {
      "cell_type": "code",
      "source": [],
      "metadata": {
        "id": "qRVTwAVxotVI"
      },
      "execution_count": null,
      "outputs": []
    }
  ]
}