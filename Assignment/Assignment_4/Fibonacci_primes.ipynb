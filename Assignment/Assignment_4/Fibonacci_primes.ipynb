{
  "nbformat": 4,
  "nbformat_minor": 0,
  "metadata": {
    "colab": {
      "provenance": [],
      "authorship_tag": "ABX9TyP4GFM14DrSxBCeqrrzyMhL",
      "include_colab_link": true
    },
    "kernelspec": {
      "name": "python3",
      "display_name": "Python 3"
    },
    "language_info": {
      "name": "python"
    }
  },
  "cells": [
    {
      "cell_type": "markdown",
      "metadata": {
        "id": "view-in-github",
        "colab_type": "text"
      },
      "source": [
        "<a href=\"https://colab.research.google.com/github/durgeshgitup/MA22C013_2023_PL/blob/main/Assignment/Assignment_4/Fibonacci_primes.ipynb\" target=\"_parent\"><img src=\"https://colab.research.google.com/assets/colab-badge.svg\" alt=\"Open In Colab\"/></a>"
      ]
    },
    {
      "cell_type": "markdown",
      "source": [
        "#1 Generator expressions"
      ],
      "metadata": {
        "id": "TOZpOd-ewFBZ"
      }
    },
    {
      "cell_type": "code",
      "source": [
        "i=2; N=10\n",
        "L = [n**i for n in range(1, N)]"
      ],
      "metadata": {
        "id": "mA3jlcI8wHkI"
      },
      "execution_count": 36,
      "outputs": []
    },
    {
      "cell_type": "code",
      "source": [
        "G = (n**i for n in range(1, N))"
      ],
      "metadata": {
        "id": "2Sxk_zISwRVr"
      },
      "execution_count": 37,
      "outputs": []
    },
    {
      "cell_type": "code",
      "source": [
        "[l for l in L]"
      ],
      "metadata": {
        "colab": {
          "base_uri": "https://localhost:8080/"
        },
        "id": "qheTuLHewUOV",
        "outputId": "c8bf5b59-91dc-4eb0-8373-79c6b72dee78"
      },
      "execution_count": 38,
      "outputs": [
        {
          "output_type": "execute_result",
          "data": {
            "text/plain": [
              "[1, 4, 9, 16, 25, 36, 49, 64, 81]"
            ]
          },
          "metadata": {},
          "execution_count": 38
        }
      ]
    },
    {
      "cell_type": "code",
      "source": [
        "[g for g in G]"
      ],
      "metadata": {
        "colab": {
          "base_uri": "https://localhost:8080/"
        },
        "id": "hyaqpGfFwXfa",
        "outputId": "3359d322-2b35-477f-83e1-29b60069f072"
      },
      "execution_count": 39,
      "outputs": [
        {
          "output_type": "execute_result",
          "data": {
            "text/plain": [
              "[1, 4, 9, 16, 25, 36, 49, 64, 81]"
            ]
          },
          "metadata": {},
          "execution_count": 39
        }
      ]
    },
    {
      "cell_type": "code",
      "source": [
        "[g for g in G]"
      ],
      "metadata": {
        "colab": {
          "base_uri": "https://localhost:8080/"
        },
        "id": "iAPugSbBwbAT",
        "outputId": "2501bcd5-1fbc-4590-bd47-26ffb0905de3"
      },
      "execution_count": 40,
      "outputs": [
        {
          "output_type": "execute_result",
          "data": {
            "text/plain": [
              "[]"
            ]
          },
          "metadata": {},
          "execution_count": 40
        }
      ]
    },
    {
      "cell_type": "markdown",
      "source": [
        "#2 Generator functions"
      ],
      "metadata": {
        "id": "ScrnYV3iwlwB"
      }
    },
    {
      "cell_type": "code",
      "source": [
        "def GG():\n",
        "  for n in range(1, N):\n",
        "    yield n**i"
      ],
      "metadata": {
        "id": "2rW__Z98wq5H"
      },
      "execution_count": 41,
      "outputs": []
    },
    {
      "cell_type": "code",
      "source": [
        "G2 = GG()\n",
        "print(*G2) # see that you get the same values as before"
      ],
      "metadata": {
        "colab": {
          "base_uri": "https://localhost:8080/"
        },
        "id": "AoUXQW4vwzdA",
        "outputId": "3a2837dc-a95e-430b-b8c4-cb3f87544bd6"
      },
      "execution_count": 42,
      "outputs": [
        {
          "output_type": "stream",
          "name": "stdout",
          "text": [
            "1 4 9 16 25 36 49 64 81\n"
          ]
        }
      ]
    },
    {
      "cell_type": "code",
      "source": [
        "G2 = GG()\n",
        "# get the first 3 values of the sequence using next:\n",
        "next(G2), next(G2), next(G2)"
      ],
      "metadata": {
        "colab": {
          "base_uri": "https://localhost:8080/"
        },
        "id": "qusJlu_Zw3UW",
        "outputId": "d91f92cf-da6a-4e41-c1fb-edd75f5b0fac"
      },
      "execution_count": 43,
      "outputs": [
        {
          "output_type": "execute_result",
          "data": {
            "text/plain": [
              "(1, 4, 9)"
            ]
          },
          "metadata": {},
          "execution_count": 43
        }
      ]
    },
    {
      "cell_type": "code",
      "source": [
        "print(*G2) # print the remaining values of the sequence"
      ],
      "metadata": {
        "colab": {
          "base_uri": "https://localhost:8080/"
        },
        "id": "gVHNccwpw7SK",
        "outputId": "08f3e1d2-4278-4689-e688-49f7ff2120bf"
      },
      "execution_count": 44,
      "outputs": [
        {
          "output_type": "stream",
          "name": "stdout",
          "text": [
            "16 25 36 49 64 81\n"
          ]
        }
      ]
    },
    {
      "cell_type": "code",
      "source": [],
      "metadata": {
        "id": "uuPjt5y1w-AY"
      },
      "execution_count": 44,
      "outputs": []
    },
    {
      "cell_type": "markdown",
      "source": [
        "#3 Disposable generators or reusable lists?"
      ],
      "metadata": {
        "id": "QQWJ5sWwxAol"
      }
    },
    {
      "cell_type": "code",
      "source": [
        "i = -20\n",
        "N = 10**8"
      ],
      "metadata": {
        "id": "1aiFyofPxEft"
      },
      "execution_count": 45,
      "outputs": []
    },
    {
      "cell_type": "code",
      "source": [
        "pip install memory_profiler"
      ],
      "metadata": {
        "colab": {
          "base_uri": "https://localhost:8080/"
        },
        "id": "tdX6fODovvrW",
        "outputId": "491a8f7c-0803-46de-a3ef-1b269164df8a"
      },
      "execution_count": 46,
      "outputs": [
        {
          "output_type": "stream",
          "name": "stdout",
          "text": [
            "Requirement already satisfied: memory_profiler in /usr/local/lib/python3.10/dist-packages (0.61.0)\n",
            "Requirement already satisfied: psutil in /usr/local/lib/python3.10/dist-packages (from memory_profiler) (5.9.5)\n",
            "\u001b[33mWARNING: Running pip as the 'root' user can result in broken permissions and conflicting behaviour with the system package manager. It is recommended to use a virtual environment instead: https://pip.pypa.io/warnings/venv\u001b[0m\u001b[33m\n",
            "\u001b[0m"
          ]
        }
      ]
    },
    {
      "cell_type": "code",
      "source": [
        "%load_ext memory_profiler"
      ],
      "metadata": {
        "colab": {
          "base_uri": "https://localhost:8080/"
        },
        "id": "fexPzbjLxMbM",
        "outputId": "d9e3ffee-571f-40f6-d42c-a4b80ada827c"
      },
      "execution_count": 47,
      "outputs": [
        {
          "output_type": "stream",
          "name": "stdout",
          "text": [
            "The memory_profiler extension is already loaded. To reload it, use:\n",
            "  %reload_ext memory_profiler\n"
          ]
        }
      ]
    },
    {
      "cell_type": "code",
      "source": [
        "%memit sum([n**i for n in range(1, N)])"
      ],
      "metadata": {
        "id": "v_N_4mr_xOqF",
        "colab": {
          "base_uri": "https://localhost:8080/"
        },
        "outputId": "c4da9562-aff7-4d41-8e4f-4c951a2894c8"
      },
      "execution_count": 48,
      "outputs": [
        {
          "output_type": "stream",
          "name": "stdout",
          "text": [
            "peak memory: 3939.95 MiB, increment: 3806.23 MiB\n"
          ]
        }
      ]
    },
    {
      "cell_type": "code",
      "source": [
        "G3 = (n**i for n in range(1, N))\n",
        "s = 0\n",
        "for g in G3:\n",
        "  s += g\n",
        "  if g < 1e-15:\n",
        "    break\n",
        "print(s)"
      ],
      "metadata": {
        "id": "nv5ImulKxR0-",
        "colab": {
          "base_uri": "https://localhost:8080/"
        },
        "outputId": "4d71433e-bcf9-4e2e-c4f6-21ae1da1a24f"
      },
      "execution_count": 49,
      "outputs": [
        {
          "output_type": "stream",
          "name": "stdout",
          "text": [
            "1.0000009539620338\n"
          ]
        }
      ]
    },
    {
      "cell_type": "markdown",
      "source": [
        "#4 Infnite sequences"
      ],
      "metadata": {
        "id": "ONhxGuv4xykn"
      }
    },
    {
      "cell_type": "code",
      "source": [
        "def natural_numbers():\n",
        "  n = 0\n",
        "  while True:\n",
        "    yield n\n",
        "    n += 1"
      ],
      "metadata": {
        "id": "B9Rtee6dx4OM"
      },
      "execution_count": 50,
      "outputs": []
    },
    {
      "cell_type": "code",
      "source": [
        "for n in natural_numbers():\n",
        "  print(n)\n",
        "  if n >= 5: break # don't go into infinite loop!"
      ],
      "metadata": {
        "colab": {
          "base_uri": "https://localhost:8080/"
        },
        "id": "azq9gqsmyIi0",
        "outputId": "efc45d7f-38b6-40cc-f25f-3f88fa975273"
      },
      "execution_count": 51,
      "outputs": [
        {
          "output_type": "stream",
          "name": "stdout",
          "text": [
            "0\n",
            "1\n",
            "2\n",
            "3\n",
            "4\n",
            "5\n"
          ]
        }
      ]
    },
    {
      "cell_type": "markdown",
      "source": [
        "#5 Fibonacci generator"
      ],
      "metadata": {
        "id": "G_gMFC4HySyo"
      }
    },
    {
      "cell_type": "code",
      "source": [
        "def fibonacci(max):\n",
        "  f, fnext = 0, 1\n",
        "  while f < max:\n",
        "    yield f\n",
        "    f, fnext = fnext, f + fnext"
      ],
      "metadata": {
        "id": "GiOMtmFSyWTZ"
      },
      "execution_count": 52,
      "outputs": []
    },
    {
      "cell_type": "code",
      "source": [
        "Fn = fibonacci(10000)\n",
        "print(*Fn)"
      ],
      "metadata": {
        "colab": {
          "base_uri": "https://localhost:8080/"
        },
        "id": "0A_PkfF-yiUM",
        "outputId": "912db39a-12b6-4d23-af7c-afb4abe34e91"
      },
      "execution_count": 53,
      "outputs": [
        {
          "output_type": "stream",
          "name": "stdout",
          "text": [
            "0 1 1 2 3 5 8 13 21 34 55 89 144 233 377 610 987 1597 2584 4181 6765\n"
          ]
        }
      ]
    },
    {
      "cell_type": "markdown",
      "source": [
        "#6 Prime number generato"
      ],
      "metadata": {
        "id": "TfwOqsOWzUiS"
      }
    },
    {
      "cell_type": "code",
      "source": [
        "P = [2, 3]"
      ],
      "metadata": {
        "id": "Hf7pT9bqyk6e"
      },
      "execution_count": 54,
      "outputs": []
    },
    {
      "cell_type": "code",
      "source": [
        "[4 % p for p in P]"
      ],
      "metadata": {
        "colab": {
          "base_uri": "https://localhost:8080/"
        },
        "id": "LDHPUhQgynQ0",
        "outputId": "ca0f51de-e08b-400a-b023-2f217b6e6f44"
      },
      "execution_count": 55,
      "outputs": [
        {
          "output_type": "execute_result",
          "data": {
            "text/plain": [
              "[0, 1]"
            ]
          },
          "metadata": {},
          "execution_count": 55
        }
      ]
    },
    {
      "cell_type": "code",
      "source": [
        "all([4 % p for p in P])"
      ],
      "metadata": {
        "colab": {
          "base_uri": "https://localhost:8080/"
        },
        "id": "JVe5RJunyphQ",
        "outputId": "3c43845b-59f5-4441-95f6-e9ddcd6535e2"
      },
      "execution_count": 56,
      "outputs": [
        {
          "output_type": "execute_result",
          "data": {
            "text/plain": [
              "False"
            ]
          },
          "metadata": {},
          "execution_count": 56
        }
      ]
    },
    {
      "cell_type": "code",
      "source": [
        "all([5 % p for p in P])"
      ],
      "metadata": {
        "colab": {
          "base_uri": "https://localhost:8080/"
        },
        "id": "bhbOKCJBysuo",
        "outputId": "6f9d8486-ef00-4da0-cac4-96216451c8b9"
      },
      "execution_count": 57,
      "outputs": [
        {
          "output_type": "execute_result",
          "data": {
            "text/plain": [
              "True"
            ]
          },
          "metadata": {},
          "execution_count": 57
        }
      ]
    },
    {
      "cell_type": "code",
      "source": [
        "def prime_numbers(N):\n",
        "  primes = []\n",
        "  q = 1\n",
        "  for n in range(q+1, N):\n",
        "    if all(n % p > 0 for p in primes):\n",
        "      primes.append(n)\n",
        "      q = n\n",
        "      yield n"
      ],
      "metadata": {
        "id": "jE55PZueyvq8"
      },
      "execution_count": 58,
      "outputs": []
    },
    {
      "cell_type": "code",
      "source": [
        "list(prime_numbers(70))"
      ],
      "metadata": {
        "colab": {
          "base_uri": "https://localhost:8080/"
        },
        "id": "llw_0L1OzCSx",
        "outputId": "caac7339-17b5-4742-9d33-9e8e6ccffb5d"
      },
      "execution_count": 59,
      "outputs": [
        {
          "output_type": "execute_result",
          "data": {
            "text/plain": [
              "[2, 3, 5, 7, 11, 13, 17, 19, 23, 29, 31, 37, 41, 43, 47, 53, 59, 61, 67]"
            ]
          },
          "metadata": {},
          "execution_count": 59
        }
      ]
    },
    {
      "cell_type": "markdown",
      "source": [
        "#7 First few Fibonacci primes"
      ],
      "metadata": {
        "id": "4skzKYctziN_"
      }
    },
    {
      "cell_type": "code",
      "source": [
        "def fibonacci_primes(N):\n",
        "  F = set(fibonacci(N))\n",
        "  P = set(prime_numbers(N))\n",
        "  print('Intersecting', len(P), 'primes with', len(F), 'fibonaccis.')\n",
        "  return P.intersection(F)\n",
        "fibonacci_primes(100000)"
      ],
      "metadata": {
        "colab": {
          "base_uri": "https://localhost:8080/"
        },
        "id": "cfYwl5LxzlJM",
        "outputId": "b8505e68-88ad-4cf8-cbad-a2b99bde3056"
      },
      "execution_count": 60,
      "outputs": [
        {
          "output_type": "stream",
          "name": "stdout",
          "text": [
            "Intersecting 9592 primes with 25 fibonaccis.\n"
          ]
        },
        {
          "output_type": "execute_result",
          "data": {
            "text/plain": [
              "{2, 3, 5, 13, 89, 233, 1597, 28657}"
            ]
          },
          "metadata": {},
          "execution_count": 60
        }
      ]
    },
    {
      "cell_type": "markdown",
      "source": [
        "#8 Verifcation"
      ],
      "metadata": {
        "id": "po5W-H8Czwik"
      }
    },
    {
      "cell_type": "code",
      "source": [
        "nFP = [3, 4, 5, 7, 11, 13, 17, 23, 29, 43]"
      ],
      "metadata": {
        "id": "V82c1RJMz0_D"
      },
      "execution_count": 61,
      "outputs": []
    },
    {
      "cell_type": "code",
      "source": [
        "def test_fibonacci_prime():\n",
        "  N = 10000\n",
        "  F = list(fibonacci(N))\n",
        "  nFP = [3, 4, 5, 7, 11, 13, 17, 23, 29, 43]\n",
        "  our_list = fibonacci_primes(N)\n",
        "  known_list = set([F[n] for n in nFP if n < len(F)])\n",
        "  assert len(known_list.difference(our_list))==0, 'We have a bug!'\n",
        "  print('Passed test!')"
      ],
      "metadata": {
        "id": "OKXrE3ykz6jo"
      },
      "execution_count": 62,
      "outputs": []
    },
    {
      "cell_type": "code",
      "source": [
        "test_fibonacci_prime()"
      ],
      "metadata": {
        "colab": {
          "base_uri": "https://localhost:8080/"
        },
        "id": "BXDmNFG80ENJ",
        "outputId": "ef0871d8-1f0d-4dca-94b7-bdd1cd3bcaa2"
      },
      "execution_count": 63,
      "outputs": [
        {
          "output_type": "stream",
          "name": "stdout",
          "text": [
            "Intersecting 1229 primes with 20 fibonaccis.\n",
            "Passed test!\n"
          ]
        }
      ]
    },
    {
      "cell_type": "code",
      "source": [
        "!pytest pyfiles/fibonacci_primes"
      ],
      "metadata": {
        "colab": {
          "base_uri": "https://localhost:8080/"
        },
        "id": "oSuSd8L60NWK",
        "outputId": "3348ce75-4fca-4e78-acca-3762216ec90b"
      },
      "execution_count": 71,
      "outputs": [
        {
          "output_type": "stream",
          "name": "stdout",
          "text": [
            "\u001b[1m============================= test session starts ==============================\u001b[0m\n",
            "platform linux -- Python 3.10.12, pytest-7.4.0, pluggy-1.2.0\n",
            "rootdir: /content\n",
            "plugins: anyio-3.7.1\n",
            "\u001b[1mcollecting ... \u001b[0m\u001b[1m\rcollected 0 items                                                              \u001b[0m\n",
            "\n",
            "\u001b[33m============================ \u001b[33mno tests ran\u001b[0m\u001b[33m in 0.01s\u001b[0m\u001b[33m =============================\u001b[0m\n"
          ]
        }
      ]
    },
    {
      "cell_type": "markdown",
      "source": [
        "#9 There must be a module for it!"
      ],
      "metadata": {
        "id": "Wa5cA2zk0oPv"
      }
    },
    {
      "cell_type": "code",
      "source": [
        "pip install --upgrade pip"
      ],
      "metadata": {
        "colab": {
          "base_uri": "https://localhost:8080/"
        },
        "id": "QkgjJx6qy-l0",
        "outputId": "50197791-6be9-4fbc-fbfd-20cc0964d081"
      },
      "execution_count": 65,
      "outputs": [
        {
          "output_type": "stream",
          "name": "stdout",
          "text": [
            "Requirement already satisfied: pip in /usr/local/lib/python3.10/dist-packages (23.2.1)\n",
            "\u001b[33mWARNING: Running pip as the 'root' user can result in broken permissions and conflicting behaviour with the system package manager. It is recommended to use a virtual environment instead: https://pip.pypa.io/warnings/venv\u001b[0m\u001b[33m\n",
            "\u001b[0m"
          ]
        }
      ]
    },
    {
      "cell_type": "code",
      "source": [
        "!apt-get update\n",
        "!apt-get install -y primesieve\n",
        "!apt-get install -y libprimesieve-dev"
      ],
      "metadata": {
        "colab": {
          "base_uri": "https://localhost:8080/"
        },
        "id": "24ouxoIQ85Ia",
        "outputId": "eb51ff76-f1b5-4568-a9e6-d40a538e8425"
      },
      "execution_count": 66,
      "outputs": [
        {
          "output_type": "stream",
          "name": "stdout",
          "text": [
            "\r0% [Working]\r            \rHit:1 https://cloud.r-project.org/bin/linux/ubuntu jammy-cran40/ InRelease\n",
            "Hit:2 https://developer.download.nvidia.com/compute/cuda/repos/ubuntu2204/x86_64  InRelease\n",
            "Hit:3 http://security.ubuntu.com/ubuntu jammy-security InRelease\n",
            "Hit:4 http://archive.ubuntu.com/ubuntu jammy InRelease\n",
            "Hit:5 http://archive.ubuntu.com/ubuntu jammy-updates InRelease\n",
            "Hit:6 http://archive.ubuntu.com/ubuntu jammy-backports InRelease\n",
            "Hit:7 https://ppa.launchpadcontent.net/c2d4u.team/c2d4u4.0+/ubuntu jammy InRelease\n",
            "Hit:8 https://ppa.launchpadcontent.net/deadsnakes/ppa/ubuntu jammy InRelease\n",
            "Hit:9 https://ppa.launchpadcontent.net/graphics-drivers/ppa/ubuntu jammy InRelease\n",
            "Hit:10 https://ppa.launchpadcontent.net/ubuntugis/ppa/ubuntu jammy InRelease\n",
            "Reading package lists... Done\n",
            "Reading package lists... Done\n",
            "Building dependency tree... Done\n",
            "Reading state information... Done\n",
            "primesieve is already the newest version (7.8+ds-1).\n",
            "0 upgraded, 0 newly installed, 0 to remove and 16 not upgraded.\n",
            "Reading package lists... Done\n",
            "Building dependency tree... Done\n",
            "Reading state information... Done\n",
            "libprimesieve-dev is already the newest version (7.8+ds-1).\n",
            "0 upgraded, 0 newly installed, 0 to remove and 16 not upgraded.\n"
          ]
        }
      ]
    },
    {
      "cell_type": "code",
      "source": [
        "pip install primesieve"
      ],
      "metadata": {
        "colab": {
          "base_uri": "https://localhost:8080/"
        },
        "id": "J_sU2nZp07Xo",
        "outputId": "ee4ba9f6-bfe8-490d-b876-9aa6e8d87b21"
      },
      "execution_count": 67,
      "outputs": [
        {
          "output_type": "stream",
          "name": "stdout",
          "text": [
            "Requirement already satisfied: primesieve in /usr/local/lib/python3.10/dist-packages (2.3.2)\n",
            "\u001b[33mWARNING: Running pip as the 'root' user can result in broken permissions and conflicting behaviour with the system package manager. It is recommended to use a virtual environment instead: https://pip.pypa.io/warnings/venv\u001b[0m\u001b[33m\n",
            "\u001b[0m"
          ]
        }
      ]
    },
    {
      "cell_type": "code",
      "source": [
        "from primesieve import primes # do after you have installed primesieve\n",
        "list(primes(70))"
      ],
      "metadata": {
        "colab": {
          "base_uri": "https://localhost:8080/"
        },
        "id": "2OxLNKXz0lRu",
        "outputId": "1a2e758b-cb76-4fdb-c45e-a38fded208f3"
      },
      "execution_count": 68,
      "outputs": [
        {
          "output_type": "execute_result",
          "data": {
            "text/plain": [
              "[2, 3, 5, 7, 11, 13, 17, 19, 23, 29, 31, 37, 41, 43, 47, 53, 59, 61, 67]"
            ]
          },
          "metadata": {},
          "execution_count": 68
        }
      ]
    },
    {
      "cell_type": "code",
      "source": [
        "%timeit primes(1000)"
      ],
      "metadata": {
        "id": "SWyvjayK00OM",
        "colab": {
          "base_uri": "https://localhost:8080/"
        },
        "outputId": "87ce593a-6c38-4d40-ffb1-f04d7ed96349"
      },
      "execution_count": 69,
      "outputs": [
        {
          "output_type": "stream",
          "name": "stdout",
          "text": [
            "2.56 µs ± 112 ns per loop (mean ± std. dev. of 7 runs, 100000 loops each)\n"
          ]
        }
      ]
    },
    {
      "cell_type": "markdown",
      "source": [
        "#10 The Fibonaccis among primes (or vice versa)?"
      ],
      "metadata": {
        "id": "B8xLOcMj1rVF"
      }
    },
    {
      "cell_type": "code",
      "source": [
        "import primesieve, math\n",
        "def is_square(n):\n",
        "  s = int(math.sqrt(n))\n",
        "  return s*s == n\n",
        "it = primesieve.Iterator()\n",
        "it.skipto(2**28-1)\n",
        "p = it.next_prime()\n",
        "while p < 2**30-1:\n",
        "  if is_square(5*p*p+4) or is_square(5*p*p-4):\n",
        "    print('¡¡ Got one !! ', p, 'is a Fibonacci prime!')\n",
        "  p = it.next_prime()"
      ],
      "metadata": {
        "id": "G_Rj1FgQ1sly",
        "colab": {
          "base_uri": "https://localhost:8080/"
        },
        "outputId": "549067fb-db83-40f4-ed9b-d101757eeb3c"
      },
      "execution_count": 70,
      "outputs": [
        {
          "output_type": "stream",
          "name": "stdout",
          "text": [
            "¡¡ Got one !!  433494437 is a Fibonacci prime!\n"
          ]
        }
      ]
    }
  ]
}